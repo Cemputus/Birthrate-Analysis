{
 "cells": [
  {
   "cell_type": "markdown",
   "id": "8127911d",
   "metadata": {},
   "source": [
    "### Q1 --- Create a data frame called DataFrame1. It should contain data about five employees. Each employee data consists of employee number, name, salary, department number and designation."
   ]
  },
  {
   "cell_type": "code",
   "execution_count": 120,
   "id": "aad6dbef",
   "metadata": {},
   "outputs": [
    {
     "name": "stdout",
     "output_type": "stream",
     "text": [
      "      0                1      2      3                 4\n",
      "0  1001    Rakesh sharma  20000  12567  Electrical engg.\n",
      "1  1002     mahesh Bhatt  25000  12568        Civil engg\n",
      "2  1003      Vikas Patil  30000  12453  Mechanical engg.\n",
      "3  1004    Shahid sheikh  15000  12679   Fanancial Agent\n",
      "4  1005  Sidharth Bhagat  25000  12647    Data scientist\n"
     ]
    }
   ],
   "source": [
    "import pandas as pd\n",
    "\n",
    "DataFrame1 = pd.DataFrame([[1001,'Rakesh sharma',20000,12567,'Electrical engg.'],\n",
    "                          [1002,'mahesh Bhatt',25000,12568,'Civil engg'],\n",
    "                          [1003,'Vikas Patil',30000,12453,'Mechanical engg.'],\n",
    "                          [1004,'Shahid sheikh',15000,12679,'Fanancial Agent'],\n",
    "                          [1005,'Sidharth Bhagat',25000,12647,'Data scientist']])\n",
    "\n",
    "print(DataFrame1)"
   ]
  },
  {
   "cell_type": "markdown",
   "id": "f3d4237a",
   "metadata": {},
   "source": [
    "### Q2 --- In the DataFrame1 defined in Q.No. 1, add appropriate column names to the columns. Find the mean of the salary in the DataFrame1."
   ]
  },
  {
   "cell_type": "code",
   "execution_count": 121,
   "id": "9014304f",
   "metadata": {},
   "outputs": [
    {
     "data": {
      "text/html": [
       "<div>\n",
       "<style scoped>\n",
       "    .dataframe tbody tr th:only-of-type {\n",
       "        vertical-align: middle;\n",
       "    }\n",
       "\n",
       "    .dataframe tbody tr th {\n",
       "        vertical-align: top;\n",
       "    }\n",
       "\n",
       "    .dataframe thead th {\n",
       "        text-align: right;\n",
       "    }\n",
       "</style>\n",
       "<table border=\"1\" class=\"dataframe\">\n",
       "  <thead>\n",
       "    <tr style=\"text-align: right;\">\n",
       "      <th></th>\n",
       "      <th>Employee number</th>\n",
       "      <th>Name</th>\n",
       "      <th>Salary</th>\n",
       "      <th>Dept No</th>\n",
       "      <th>Designation</th>\n",
       "    </tr>\n",
       "  </thead>\n",
       "  <tbody>\n",
       "    <tr>\n",
       "      <th>0</th>\n",
       "      <td>1001</td>\n",
       "      <td>Rakesh sharma</td>\n",
       "      <td>20000</td>\n",
       "      <td>12567</td>\n",
       "      <td>Electrical engg.</td>\n",
       "    </tr>\n",
       "    <tr>\n",
       "      <th>1</th>\n",
       "      <td>1002</td>\n",
       "      <td>mahesh Bhatt</td>\n",
       "      <td>25000</td>\n",
       "      <td>12568</td>\n",
       "      <td>Civil engg</td>\n",
       "    </tr>\n",
       "    <tr>\n",
       "      <th>2</th>\n",
       "      <td>1003</td>\n",
       "      <td>Vikas Patil</td>\n",
       "      <td>30000</td>\n",
       "      <td>12453</td>\n",
       "      <td>Mechanical engg.</td>\n",
       "    </tr>\n",
       "    <tr>\n",
       "      <th>3</th>\n",
       "      <td>1004</td>\n",
       "      <td>Shahid sheikh</td>\n",
       "      <td>15000</td>\n",
       "      <td>12679</td>\n",
       "      <td>Fanancial Agent</td>\n",
       "    </tr>\n",
       "    <tr>\n",
       "      <th>4</th>\n",
       "      <td>1005</td>\n",
       "      <td>Sidharth Bhagat</td>\n",
       "      <td>25000</td>\n",
       "      <td>12647</td>\n",
       "      <td>Data scientist</td>\n",
       "    </tr>\n",
       "  </tbody>\n",
       "</table>\n",
       "</div>"
      ],
      "text/plain": [
       "   Employee number             Name  Salary  Dept No       Designation\n",
       "0             1001    Rakesh sharma   20000    12567  Electrical engg.\n",
       "1             1002     mahesh Bhatt   25000    12568        Civil engg\n",
       "2             1003      Vikas Patil   30000    12453  Mechanical engg.\n",
       "3             1004    Shahid sheikh   15000    12679   Fanancial Agent\n",
       "4             1005  Sidharth Bhagat   25000    12647    Data scientist"
      ]
     },
     "execution_count": 121,
     "metadata": {},
     "output_type": "execute_result"
    }
   ],
   "source": [
    "import pandas as pd\n",
    "DataFrame1.columns=['Employee number','Name','Salary','Dept No','Designation']\n",
    "\n",
    "DataFrame1"
   ]
  },
  {
   "cell_type": "code",
   "execution_count": 22,
   "id": "8c085c92",
   "metadata": {},
   "outputs": [
    {
     "data": {
      "text/plain": [
       "23000.0"
      ]
     },
     "execution_count": 22,
     "metadata": {},
     "output_type": "execute_result"
    }
   ],
   "source": [
    "DataFrame1.Salary.mean()"
   ]
  },
  {
   "cell_type": "markdown",
   "id": "e397e24f",
   "metadata": {},
   "source": [
    "### Q3 --- Create a dictionary called dept. In this dictionary, the columns are deptno, deptname and location. Create a data frame called DataFrame2 from the dictionary dept."
   ]
  },
  {
   "cell_type": "code",
   "execution_count": 31,
   "id": "ed2abae1",
   "metadata": {},
   "outputs": [],
   "source": [
    "import pandas as pd\n",
    "DataFrame2 = pd.DataFrame({'deptno':[101,102,103,104,105],\n",
    "                          'deptname':['utility','maintenance','safety','production','management'],\n",
    "                          'location':['nagpur','chandrapur','mumbai','pune','chennai']})"
   ]
  },
  {
   "cell_type": "code",
   "execution_count": 32,
   "id": "18d19327",
   "metadata": {},
   "outputs": [
    {
     "data": {
      "text/html": [
       "<div>\n",
       "<style scoped>\n",
       "    .dataframe tbody tr th:only-of-type {\n",
       "        vertical-align: middle;\n",
       "    }\n",
       "\n",
       "    .dataframe tbody tr th {\n",
       "        vertical-align: top;\n",
       "    }\n",
       "\n",
       "    .dataframe thead th {\n",
       "        text-align: right;\n",
       "    }\n",
       "</style>\n",
       "<table border=\"1\" class=\"dataframe\">\n",
       "  <thead>\n",
       "    <tr style=\"text-align: right;\">\n",
       "      <th></th>\n",
       "      <th>deptno</th>\n",
       "      <th>deptname</th>\n",
       "      <th>location</th>\n",
       "    </tr>\n",
       "  </thead>\n",
       "  <tbody>\n",
       "    <tr>\n",
       "      <th>0</th>\n",
       "      <td>101</td>\n",
       "      <td>utility</td>\n",
       "      <td>nagpur</td>\n",
       "    </tr>\n",
       "    <tr>\n",
       "      <th>1</th>\n",
       "      <td>102</td>\n",
       "      <td>maintenance</td>\n",
       "      <td>chandrapur</td>\n",
       "    </tr>\n",
       "    <tr>\n",
       "      <th>2</th>\n",
       "      <td>103</td>\n",
       "      <td>safety</td>\n",
       "      <td>mumbai</td>\n",
       "    </tr>\n",
       "    <tr>\n",
       "      <th>3</th>\n",
       "      <td>104</td>\n",
       "      <td>production</td>\n",
       "      <td>pune</td>\n",
       "    </tr>\n",
       "    <tr>\n",
       "      <th>4</th>\n",
       "      <td>105</td>\n",
       "      <td>management</td>\n",
       "      <td>chennai</td>\n",
       "    </tr>\n",
       "  </tbody>\n",
       "</table>\n",
       "</div>"
      ],
      "text/plain": [
       "   deptno     deptname    location\n",
       "0     101      utility      nagpur\n",
       "1     102  maintenance  chandrapur\n",
       "2     103       safety      mumbai\n",
       "3     104   production        pune\n",
       "4     105   management     chennai"
      ]
     },
     "execution_count": 32,
     "metadata": {},
     "output_type": "execute_result"
    }
   ],
   "source": [
    "DataFrame2"
   ]
  },
  {
   "cell_type": "markdown",
   "id": "acd828a2",
   "metadata": {},
   "source": [
    "### Q4 --- Consider a sales.csv file with the following data:"
   ]
  },
  {
   "cell_type": "code",
   "execution_count": 150,
   "id": "477b8ab2",
   "metadata": {},
   "outputs": [
    {
     "data": {
      "text/html": [
       "<div>\n",
       "<style scoped>\n",
       "    .dataframe tbody tr th:only-of-type {\n",
       "        vertical-align: middle;\n",
       "    }\n",
       "\n",
       "    .dataframe tbody tr th {\n",
       "        vertical-align: top;\n",
       "    }\n",
       "\n",
       "    .dataframe thead th {\n",
       "        text-align: right;\n",
       "    }\n",
       "</style>\n",
       "<table border=\"1\" class=\"dataframe\">\n",
       "  <thead>\n",
       "    <tr style=\"text-align: right;\">\n",
       "      <th></th>\n",
       "      <th>Salesman</th>\n",
       "      <th>region1</th>\n",
       "      <th>region2</th>\n",
       "      <th>region3</th>\n",
       "    </tr>\n",
       "  </thead>\n",
       "  <tbody>\n",
       "    <tr>\n",
       "      <th>0</th>\n",
       "      <td>Dinesh</td>\n",
       "      <td>7800</td>\n",
       "      <td>6500</td>\n",
       "      <td>4590</td>\n",
       "    </tr>\n",
       "    <tr>\n",
       "      <th>1</th>\n",
       "      <td>Mahesh</td>\n",
       "      <td>8900</td>\n",
       "      <td></td>\n",
       "      <td>3790</td>\n",
       "    </tr>\n",
       "    <tr>\n",
       "      <th>2</th>\n",
       "      <td>Ramesh</td>\n",
       "      <td>10800</td>\n",
       "      <td>2300</td>\n",
       "      <td></td>\n",
       "    </tr>\n",
       "    <tr>\n",
       "      <th>3</th>\n",
       "      <td>Suresh</td>\n",
       "      <td>5600</td>\n",
       "      <td>6790</td>\n",
       "      <td>2300</td>\n",
       "    </tr>\n",
       "    <tr>\n",
       "      <th>4</th>\n",
       "      <td>Basha</td>\n",
       "      <td>7600</td>\n",
       "      <td>2300</td>\n",
       "      <td>2400</td>\n",
       "    </tr>\n",
       "  </tbody>\n",
       "</table>\n",
       "</div>"
      ],
      "text/plain": [
       "  Salesman  region1 region2 region3\n",
       "0   Dinesh     7800    6500    4590\n",
       "1   Mahesh     8900            3790\n",
       "2   Ramesh    10800    2300        \n",
       "3   Suresh     5600    6790    2300\n",
       "4    Basha     7600    2300    2400"
      ]
     },
     "execution_count": 150,
     "metadata": {},
     "output_type": "execute_result"
    }
   ],
   "source": [
    "import pandas as pd\n",
    "sale = pd.DataFrame({'Salesman':['Dinesh','Mahesh','Ramesh','Suresh','Basha'],\n",
    "                           'region1':[7800,8900,10800,5600,7600],\n",
    "                           'region2':[6500,' ',2300,6790,2300],\n",
    "                           'region3':[4590,3790,' ',2300,2400]})\n",
    "sale"
   ]
  },
  {
   "cell_type": "code",
   "execution_count": 151,
   "id": "9c4ee660",
   "metadata": {},
   "outputs": [],
   "source": [
    "# First create the sales.csv file\n",
    "\n",
    "sale.to_csv('sales.csv')"
   ]
  },
  {
   "cell_type": "code",
   "execution_count": 156,
   "id": "e250c31a",
   "metadata": {},
   "outputs": [
    {
     "data": {
      "text/html": [
       "<div>\n",
       "<style scoped>\n",
       "    .dataframe tbody tr th:only-of-type {\n",
       "        vertical-align: middle;\n",
       "    }\n",
       "\n",
       "    .dataframe tbody tr th {\n",
       "        vertical-align: top;\n",
       "    }\n",
       "\n",
       "    .dataframe thead th {\n",
       "        text-align: right;\n",
       "    }\n",
       "</style>\n",
       "<table border=\"1\" class=\"dataframe\">\n",
       "  <thead>\n",
       "    <tr style=\"text-align: right;\">\n",
       "      <th></th>\n",
       "      <th>Unnamed: 0</th>\n",
       "      <th>Salesman</th>\n",
       "      <th>region1</th>\n",
       "      <th>region2</th>\n",
       "      <th>region3</th>\n",
       "    </tr>\n",
       "  </thead>\n",
       "  <tbody>\n",
       "    <tr>\n",
       "      <th>0</th>\n",
       "      <td>0</td>\n",
       "      <td>Dinesh</td>\n",
       "      <td>7800</td>\n",
       "      <td>6500.0</td>\n",
       "      <td>4590.0</td>\n",
       "    </tr>\n",
       "    <tr>\n",
       "      <th>1</th>\n",
       "      <td>1</td>\n",
       "      <td>Mahesh</td>\n",
       "      <td>8900</td>\n",
       "      <td>NaN</td>\n",
       "      <td>3790.0</td>\n",
       "    </tr>\n",
       "    <tr>\n",
       "      <th>2</th>\n",
       "      <td>2</td>\n",
       "      <td>Ramesh</td>\n",
       "      <td>10800</td>\n",
       "      <td>2300.0</td>\n",
       "      <td>NaN</td>\n",
       "    </tr>\n",
       "    <tr>\n",
       "      <th>3</th>\n",
       "      <td>3</td>\n",
       "      <td>Suresh</td>\n",
       "      <td>5600</td>\n",
       "      <td>6790.0</td>\n",
       "      <td>2300.0</td>\n",
       "    </tr>\n",
       "    <tr>\n",
       "      <th>4</th>\n",
       "      <td>4</td>\n",
       "      <td>Basha</td>\n",
       "      <td>7600</td>\n",
       "      <td>2300.0</td>\n",
       "      <td>2400.0</td>\n",
       "    </tr>\n",
       "  </tbody>\n",
       "</table>\n",
       "</div>"
      ],
      "text/plain": [
       "   Unnamed: 0 Salesman  region1  region2  region3\n",
       "0           0   Dinesh     7800   6500.0   4590.0\n",
       "1           1   Mahesh     8900      NaN   3790.0\n",
       "2           2   Ramesh    10800   2300.0      NaN\n",
       "3           3   Suresh     5600   6790.0   2300.0\n",
       "4           4    Basha     7600   2300.0   2400.0"
      ]
     },
     "execution_count": 156,
     "metadata": {},
     "output_type": "execute_result"
    }
   ],
   "source": [
    "# Now load the sales.csv file\n",
    "\n",
    "df3 = pd.read_csv('C:\\\\Users\\\\kirta\\\\Desktop\\\\Swapnil kirtane_ Python challenges\\\\All Challenges\\\\week 9 challange\\\\sales.csv')\n",
    "\n",
    "df3"
   ]
  },
  {
   "cell_type": "markdown",
   "id": "70142608",
   "metadata": {},
   "source": [
    "### Q5 --- In this exercise, demonstrate different methods of handling missing data in data frames. For reference, consider the DataFrame3 created in Q.No. 4. In DataFrame3, do the following: fill missing values with zeroes, fill missing values with the mean of their respective column, drop the rows containing missing values, drop the columns containing missing values."
   ]
  },
  {
   "cell_type": "code",
   "execution_count": 157,
   "id": "d9470eeb",
   "metadata": {},
   "outputs": [
    {
     "data": {
      "text/html": [
       "<div>\n",
       "<style scoped>\n",
       "    .dataframe tbody tr th:only-of-type {\n",
       "        vertical-align: middle;\n",
       "    }\n",
       "\n",
       "    .dataframe tbody tr th {\n",
       "        vertical-align: top;\n",
       "    }\n",
       "\n",
       "    .dataframe thead th {\n",
       "        text-align: right;\n",
       "    }\n",
       "</style>\n",
       "<table border=\"1\" class=\"dataframe\">\n",
       "  <thead>\n",
       "    <tr style=\"text-align: right;\">\n",
       "      <th></th>\n",
       "      <th>Unnamed: 0</th>\n",
       "      <th>Salesman</th>\n",
       "      <th>region1</th>\n",
       "      <th>region2</th>\n",
       "      <th>region3</th>\n",
       "    </tr>\n",
       "  </thead>\n",
       "  <tbody>\n",
       "    <tr>\n",
       "      <th>0</th>\n",
       "      <td>0</td>\n",
       "      <td>Dinesh</td>\n",
       "      <td>7800</td>\n",
       "      <td>6500.0</td>\n",
       "      <td>4590.0</td>\n",
       "    </tr>\n",
       "    <tr>\n",
       "      <th>1</th>\n",
       "      <td>1</td>\n",
       "      <td>Mahesh</td>\n",
       "      <td>8900</td>\n",
       "      <td>0.0</td>\n",
       "      <td>3790.0</td>\n",
       "    </tr>\n",
       "    <tr>\n",
       "      <th>2</th>\n",
       "      <td>2</td>\n",
       "      <td>Ramesh</td>\n",
       "      <td>10800</td>\n",
       "      <td>2300.0</td>\n",
       "      <td>0.0</td>\n",
       "    </tr>\n",
       "    <tr>\n",
       "      <th>3</th>\n",
       "      <td>3</td>\n",
       "      <td>Suresh</td>\n",
       "      <td>5600</td>\n",
       "      <td>6790.0</td>\n",
       "      <td>2300.0</td>\n",
       "    </tr>\n",
       "    <tr>\n",
       "      <th>4</th>\n",
       "      <td>4</td>\n",
       "      <td>Basha</td>\n",
       "      <td>7600</td>\n",
       "      <td>2300.0</td>\n",
       "      <td>2400.0</td>\n",
       "    </tr>\n",
       "  </tbody>\n",
       "</table>\n",
       "</div>"
      ],
      "text/plain": [
       "   Unnamed: 0 Salesman  region1  region2  region3\n",
       "0           0   Dinesh     7800   6500.0   4590.0\n",
       "1           1   Mahesh     8900      0.0   3790.0\n",
       "2           2   Ramesh    10800   2300.0      0.0\n",
       "3           3   Suresh     5600   6790.0   2300.0\n",
       "4           4    Basha     7600   2300.0   2400.0"
      ]
     },
     "execution_count": 157,
     "metadata": {},
     "output_type": "execute_result"
    }
   ],
   "source": [
    "df = df3.fillna(0)\n",
    "df"
   ]
  },
  {
   "cell_type": "markdown",
   "id": "9bd10b95",
   "metadata": {},
   "source": [
    "### Q6 --- From DataFrame1 create a new data frame called DataFrame4. In DataFrame4, set the employee number as an in-place index. Display data from the 3rd row and 4th column using label-based and integer-based indexing."
   ]
  },
  {
   "cell_type": "code",
   "execution_count": 72,
   "id": "47a48b83",
   "metadata": {},
   "outputs": [
    {
     "data": {
      "text/html": [
       "<div>\n",
       "<style scoped>\n",
       "    .dataframe tbody tr th:only-of-type {\n",
       "        vertical-align: middle;\n",
       "    }\n",
       "\n",
       "    .dataframe tbody tr th {\n",
       "        vertical-align: top;\n",
       "    }\n",
       "\n",
       "    .dataframe thead th {\n",
       "        text-align: right;\n",
       "    }\n",
       "</style>\n",
       "<table border=\"1\" class=\"dataframe\">\n",
       "  <thead>\n",
       "    <tr style=\"text-align: right;\">\n",
       "      <th></th>\n",
       "      <th>Name</th>\n",
       "      <th>Salary</th>\n",
       "      <th>Dept No</th>\n",
       "      <th>Designation</th>\n",
       "    </tr>\n",
       "    <tr>\n",
       "      <th>Employee number</th>\n",
       "      <th></th>\n",
       "      <th></th>\n",
       "      <th></th>\n",
       "      <th></th>\n",
       "    </tr>\n",
       "  </thead>\n",
       "  <tbody>\n",
       "    <tr>\n",
       "      <th>1001</th>\n",
       "      <td>Rakesh sharma</td>\n",
       "      <td>20000</td>\n",
       "      <td>12567</td>\n",
       "      <td>Electrical engg.</td>\n",
       "    </tr>\n",
       "    <tr>\n",
       "      <th>1002</th>\n",
       "      <td>mahesh Bhatt</td>\n",
       "      <td>25000</td>\n",
       "      <td>12568</td>\n",
       "      <td>Civil engg</td>\n",
       "    </tr>\n",
       "    <tr>\n",
       "      <th>1003</th>\n",
       "      <td>Vikas Patil</td>\n",
       "      <td>30000</td>\n",
       "      <td>12453</td>\n",
       "      <td>Mechanical engg.</td>\n",
       "    </tr>\n",
       "    <tr>\n",
       "      <th>1004</th>\n",
       "      <td>Shahid sheikh</td>\n",
       "      <td>15000</td>\n",
       "      <td>12679</td>\n",
       "      <td>Fanancial Agent</td>\n",
       "    </tr>\n",
       "    <tr>\n",
       "      <th>1005</th>\n",
       "      <td>Sidharth Bhagat</td>\n",
       "      <td>25000</td>\n",
       "      <td>12647</td>\n",
       "      <td>Data scientist</td>\n",
       "    </tr>\n",
       "  </tbody>\n",
       "</table>\n",
       "</div>"
      ],
      "text/plain": [
       "                            Name  Salary  Dept No       Designation\n",
       "Employee number                                                    \n",
       "1001               Rakesh sharma   20000    12567  Electrical engg.\n",
       "1002                mahesh Bhatt   25000    12568        Civil engg\n",
       "1003                 Vikas Patil   30000    12453  Mechanical engg.\n",
       "1004               Shahid sheikh   15000    12679   Fanancial Agent\n",
       "1005             Sidharth Bhagat   25000    12647    Data scientist"
      ]
     },
     "execution_count": 72,
     "metadata": {},
     "output_type": "execute_result"
    }
   ],
   "source": [
    "import pandas as pd\n",
    "\n",
    "df4 = DataFrame1.set_index('Employee number')\n",
    "df4"
   ]
  },
  {
   "cell_type": "code",
   "execution_count": 83,
   "id": "41b754b7",
   "metadata": {},
   "outputs": [
    {
     "data": {
      "text/plain": [
       "Designation    Fanancial Agent\n",
       "Name: 1004, dtype: object"
      ]
     },
     "execution_count": 83,
     "metadata": {},
     "output_type": "execute_result"
    }
   ],
   "source": [
    "df4.iloc[3,3:4]"
   ]
  },
  {
   "cell_type": "markdown",
   "id": "f0433925",
   "metadata": {},
   "source": [
    "### Q7 --- In DataFrame3 created in Q.No. 5, find the salesmen whose sales are greater than 7000 in region1 but less than 3000 in region2"
   ]
  },
  {
   "cell_type": "code",
   "execution_count": 90,
   "id": "16b0087b",
   "metadata": {},
   "outputs": [
    {
     "data": {
      "text/html": [
       "<div>\n",
       "<style scoped>\n",
       "    .dataframe tbody tr th:only-of-type {\n",
       "        vertical-align: middle;\n",
       "    }\n",
       "\n",
       "    .dataframe tbody tr th {\n",
       "        vertical-align: top;\n",
       "    }\n",
       "\n",
       "    .dataframe thead th {\n",
       "        text-align: right;\n",
       "    }\n",
       "</style>\n",
       "<table border=\"1\" class=\"dataframe\">\n",
       "  <thead>\n",
       "    <tr style=\"text-align: right;\">\n",
       "      <th></th>\n",
       "      <th>Salesman</th>\n",
       "      <th>region1</th>\n",
       "      <th>region2</th>\n",
       "      <th>region3</th>\n",
       "    </tr>\n",
       "  </thead>\n",
       "  <tbody>\n",
       "    <tr>\n",
       "      <th>2</th>\n",
       "      <td>Ramesh</td>\n",
       "      <td>10800</td>\n",
       "      <td>2300.0</td>\n",
       "      <td>NaN</td>\n",
       "    </tr>\n",
       "    <tr>\n",
       "      <th>4</th>\n",
       "      <td>Basha</td>\n",
       "      <td>7600</td>\n",
       "      <td>2300.0</td>\n",
       "      <td>2400.0</td>\n",
       "    </tr>\n",
       "  </tbody>\n",
       "</table>\n",
       "</div>"
      ],
      "text/plain": [
       "  Salesman  region1  region2  region3\n",
       "2   Ramesh    10800   2300.0      NaN\n",
       "4    Basha     7600   2300.0   2400.0"
      ]
     },
     "execution_count": 90,
     "metadata": {},
     "output_type": "execute_result"
    }
   ],
   "source": [
    "df3[(df3['region1']>7000) & (df3['region2']<3000)] "
   ]
  },
  {
   "cell_type": "markdown",
   "id": "c4cc0af6",
   "metadata": {},
   "source": [
    "### Q8 --- In DataFrame1 created in Q. No. 1, find the employees with the highest salary in each department. Use the group by clause and the max() function. Similarly, in DataFrame3 created in Q. No. 5, find the salesman with the highest amount of sales for each region."
   ]
  },
  {
   "cell_type": "code",
   "execution_count": 102,
   "id": "185b8f17",
   "metadata": {},
   "outputs": [
    {
     "data": {
      "text/plain": [
       "Name\n",
       "Rakesh sharma      20000\n",
       "Shahid sheikh      15000\n",
       "Sidharth Bhagat    25000\n",
       "Vikas Patil        30000\n",
       "mahesh Bhatt       25000\n",
       "Name: Salary, dtype: int64"
      ]
     },
     "execution_count": 102,
     "metadata": {},
     "output_type": "execute_result"
    }
   ],
   "source": [
    "df1 = DataFrame1\n",
    "df1.groupby(['Name']).max()['Salary']"
   ]
  },
  {
   "cell_type": "code",
   "execution_count": 111,
   "id": "e7c954b0",
   "metadata": {},
   "outputs": [
    {
     "data": {
      "text/plain": [
       "Salesman\n",
       "Basha      7600\n",
       "Dinesh     7800\n",
       "Mahesh     8900\n",
       "Ramesh    10800\n",
       "Suresh     5600\n",
       "Name: region1, dtype: int64"
      ]
     },
     "execution_count": 111,
     "metadata": {},
     "output_type": "execute_result"
    }
   ],
   "source": [
    "df3.groupby(['Salesman']).max()['region1']"
   ]
  },
  {
   "cell_type": "code",
   "execution_count": 109,
   "id": "dc1a2b67",
   "metadata": {},
   "outputs": [
    {
     "data": {
      "text/plain": [
       "Salesman\n",
       "Basha     2300.0\n",
       "Dinesh    6500.0\n",
       "Mahesh       NaN\n",
       "Ramesh    2300.0\n",
       "Suresh    6790.0\n",
       "Name: region2, dtype: float64"
      ]
     },
     "execution_count": 109,
     "metadata": {},
     "output_type": "execute_result"
    }
   ],
   "source": [
    "df3.groupby(['Salesman']).max()['region2']"
   ]
  },
  {
   "cell_type": "code",
   "execution_count": 108,
   "id": "fc7c59f2",
   "metadata": {},
   "outputs": [
    {
     "data": {
      "text/plain": [
       "Salesman\n",
       "Basha     2400.0\n",
       "Dinesh    4590.0\n",
       "Mahesh    3790.0\n",
       "Ramesh       NaN\n",
       "Suresh    2300.0\n",
       "Name: region3, dtype: float64"
      ]
     },
     "execution_count": 108,
     "metadata": {},
     "output_type": "execute_result"
    }
   ],
   "source": [
    "df3.groupby(['Salesman']).max()['region3']"
   ]
  },
  {
   "cell_type": "markdown",
   "id": "ccff497e",
   "metadata": {},
   "source": [
    "### Q9 ---  In DataFrame1 created in Q. No. 1, add a new column called Address. In this new column, set the value as ‘Chennai’ for all the existing rows"
   ]
  },
  {
   "cell_type": "code",
   "execution_count": 116,
   "id": "4c301f60",
   "metadata": {},
   "outputs": [],
   "source": [
    "DataFrame1 = df1"
   ]
  },
  {
   "cell_type": "code",
   "execution_count": 117,
   "id": "05f5dff7",
   "metadata": {},
   "outputs": [
    {
     "data": {
      "text/html": [
       "<div>\n",
       "<style scoped>\n",
       "    .dataframe tbody tr th:only-of-type {\n",
       "        vertical-align: middle;\n",
       "    }\n",
       "\n",
       "    .dataframe tbody tr th {\n",
       "        vertical-align: top;\n",
       "    }\n",
       "\n",
       "    .dataframe thead th {\n",
       "        text-align: right;\n",
       "    }\n",
       "</style>\n",
       "<table border=\"1\" class=\"dataframe\">\n",
       "  <thead>\n",
       "    <tr style=\"text-align: right;\">\n",
       "      <th></th>\n",
       "      <th>Employee number</th>\n",
       "      <th>Name</th>\n",
       "      <th>Salary</th>\n",
       "      <th>Dept No</th>\n",
       "      <th>Designation</th>\n",
       "      <th>Address</th>\n",
       "    </tr>\n",
       "  </thead>\n",
       "  <tbody>\n",
       "    <tr>\n",
       "      <th>0</th>\n",
       "      <td>1001</td>\n",
       "      <td>Rakesh sharma</td>\n",
       "      <td>20000</td>\n",
       "      <td>12567</td>\n",
       "      <td>Electrical engg.</td>\n",
       "      <td>Chennai</td>\n",
       "    </tr>\n",
       "    <tr>\n",
       "      <th>1</th>\n",
       "      <td>1002</td>\n",
       "      <td>mahesh Bhatt</td>\n",
       "      <td>25000</td>\n",
       "      <td>12568</td>\n",
       "      <td>Civil engg</td>\n",
       "      <td>Chennai</td>\n",
       "    </tr>\n",
       "    <tr>\n",
       "      <th>2</th>\n",
       "      <td>1003</td>\n",
       "      <td>Vikas Patil</td>\n",
       "      <td>30000</td>\n",
       "      <td>12453</td>\n",
       "      <td>Mechanical engg.</td>\n",
       "      <td>Chennai</td>\n",
       "    </tr>\n",
       "    <tr>\n",
       "      <th>3</th>\n",
       "      <td>1004</td>\n",
       "      <td>Shahid sheikh</td>\n",
       "      <td>15000</td>\n",
       "      <td>12679</td>\n",
       "      <td>Fanancial Agent</td>\n",
       "      <td>Chennai</td>\n",
       "    </tr>\n",
       "    <tr>\n",
       "      <th>4</th>\n",
       "      <td>1005</td>\n",
       "      <td>Sidharth Bhagat</td>\n",
       "      <td>25000</td>\n",
       "      <td>12647</td>\n",
       "      <td>Data scientist</td>\n",
       "      <td>Chennai</td>\n",
       "    </tr>\n",
       "  </tbody>\n",
       "</table>\n",
       "</div>"
      ],
      "text/plain": [
       "   Employee number             Name  Salary  Dept No       Designation  \\\n",
       "0             1001    Rakesh sharma   20000    12567  Electrical engg.   \n",
       "1             1002     mahesh Bhatt   25000    12568        Civil engg   \n",
       "2             1003      Vikas Patil   30000    12453  Mechanical engg.   \n",
       "3             1004    Shahid sheikh   15000    12679   Fanancial Agent   \n",
       "4             1005  Sidharth Bhagat   25000    12647    Data scientist   \n",
       "\n",
       "   Address  \n",
       "0  Chennai  \n",
       "1  Chennai  \n",
       "2  Chennai  \n",
       "3  Chennai  \n",
       "4  Chennai  "
      ]
     },
     "execution_count": 117,
     "metadata": {},
     "output_type": "execute_result"
    }
   ],
   "source": [
    "df1['Address'] = df1.shape[0] * ['Chennai']\n",
    "\n",
    "df1"
   ]
  },
  {
   "cell_type": "markdown",
   "id": "f71938ec",
   "metadata": {},
   "source": [
    "### Q10 --- Create a line graph and bar chart to visualize the two data frames, DataFrame1 and DataFrame3."
   ]
  },
  {
   "cell_type": "code",
   "execution_count": 170,
   "id": "aac2622f",
   "metadata": {},
   "outputs": [],
   "source": [
    "df1 = DataFrame1\n",
    "df3 = df3.set_index('Salesman')"
   ]
  },
  {
   "cell_type": "code",
   "execution_count": 159,
   "id": "018754ad",
   "metadata": {},
   "outputs": [
    {
     "data": {
      "text/html": [
       "<div>\n",
       "<style scoped>\n",
       "    .dataframe tbody tr th:only-of-type {\n",
       "        vertical-align: middle;\n",
       "    }\n",
       "\n",
       "    .dataframe tbody tr th {\n",
       "        vertical-align: top;\n",
       "    }\n",
       "\n",
       "    .dataframe thead th {\n",
       "        text-align: right;\n",
       "    }\n",
       "</style>\n",
       "<table border=\"1\" class=\"dataframe\">\n",
       "  <thead>\n",
       "    <tr style=\"text-align: right;\">\n",
       "      <th></th>\n",
       "      <th>Employee number</th>\n",
       "      <th>Name</th>\n",
       "      <th>Salary</th>\n",
       "      <th>Dept No</th>\n",
       "      <th>Designation</th>\n",
       "    </tr>\n",
       "  </thead>\n",
       "  <tbody>\n",
       "    <tr>\n",
       "      <th>0</th>\n",
       "      <td>1001</td>\n",
       "      <td>Rakesh sharma</td>\n",
       "      <td>20000</td>\n",
       "      <td>12567</td>\n",
       "      <td>Electrical engg.</td>\n",
       "    </tr>\n",
       "    <tr>\n",
       "      <th>1</th>\n",
       "      <td>1002</td>\n",
       "      <td>mahesh Bhatt</td>\n",
       "      <td>25000</td>\n",
       "      <td>12568</td>\n",
       "      <td>Civil engg</td>\n",
       "    </tr>\n",
       "    <tr>\n",
       "      <th>2</th>\n",
       "      <td>1003</td>\n",
       "      <td>Vikas Patil</td>\n",
       "      <td>30000</td>\n",
       "      <td>12453</td>\n",
       "      <td>Mechanical engg.</td>\n",
       "    </tr>\n",
       "    <tr>\n",
       "      <th>3</th>\n",
       "      <td>1004</td>\n",
       "      <td>Shahid sheikh</td>\n",
       "      <td>15000</td>\n",
       "      <td>12679</td>\n",
       "      <td>Fanancial Agent</td>\n",
       "    </tr>\n",
       "    <tr>\n",
       "      <th>4</th>\n",
       "      <td>1005</td>\n",
       "      <td>Sidharth Bhagat</td>\n",
       "      <td>25000</td>\n",
       "      <td>12647</td>\n",
       "      <td>Data scientist</td>\n",
       "    </tr>\n",
       "  </tbody>\n",
       "</table>\n",
       "</div>"
      ],
      "text/plain": [
       "   Employee number             Name  Salary  Dept No       Designation\n",
       "0             1001    Rakesh sharma   20000    12567  Electrical engg.\n",
       "1             1002     mahesh Bhatt   25000    12568        Civil engg\n",
       "2             1003      Vikas Patil   30000    12453  Mechanical engg.\n",
       "3             1004    Shahid sheikh   15000    12679   Fanancial Agent\n",
       "4             1005  Sidharth Bhagat   25000    12647    Data scientist"
      ]
     },
     "execution_count": 159,
     "metadata": {},
     "output_type": "execute_result"
    }
   ],
   "source": [
    "df1"
   ]
  },
  {
   "cell_type": "code",
   "execution_count": 171,
   "id": "561020df",
   "metadata": {},
   "outputs": [
    {
     "data": {
      "text/html": [
       "<div>\n",
       "<style scoped>\n",
       "    .dataframe tbody tr th:only-of-type {\n",
       "        vertical-align: middle;\n",
       "    }\n",
       "\n",
       "    .dataframe tbody tr th {\n",
       "        vertical-align: top;\n",
       "    }\n",
       "\n",
       "    .dataframe thead th {\n",
       "        text-align: right;\n",
       "    }\n",
       "</style>\n",
       "<table border=\"1\" class=\"dataframe\">\n",
       "  <thead>\n",
       "    <tr style=\"text-align: right;\">\n",
       "      <th></th>\n",
       "      <th>Unnamed: 0</th>\n",
       "      <th>region1</th>\n",
       "      <th>region2</th>\n",
       "      <th>region3</th>\n",
       "    </tr>\n",
       "    <tr>\n",
       "      <th>Salesman</th>\n",
       "      <th></th>\n",
       "      <th></th>\n",
       "      <th></th>\n",
       "      <th></th>\n",
       "    </tr>\n",
       "  </thead>\n",
       "  <tbody>\n",
       "    <tr>\n",
       "      <th>Dinesh</th>\n",
       "      <td>0</td>\n",
       "      <td>7800</td>\n",
       "      <td>6500.0</td>\n",
       "      <td>4590.0</td>\n",
       "    </tr>\n",
       "    <tr>\n",
       "      <th>Mahesh</th>\n",
       "      <td>1</td>\n",
       "      <td>8900</td>\n",
       "      <td>0.0</td>\n",
       "      <td>3790.0</td>\n",
       "    </tr>\n",
       "    <tr>\n",
       "      <th>Ramesh</th>\n",
       "      <td>2</td>\n",
       "      <td>10800</td>\n",
       "      <td>2300.0</td>\n",
       "      <td>0.0</td>\n",
       "    </tr>\n",
       "    <tr>\n",
       "      <th>Suresh</th>\n",
       "      <td>3</td>\n",
       "      <td>5600</td>\n",
       "      <td>6790.0</td>\n",
       "      <td>2300.0</td>\n",
       "    </tr>\n",
       "    <tr>\n",
       "      <th>Basha</th>\n",
       "      <td>4</td>\n",
       "      <td>7600</td>\n",
       "      <td>2300.0</td>\n",
       "      <td>2400.0</td>\n",
       "    </tr>\n",
       "  </tbody>\n",
       "</table>\n",
       "</div>"
      ],
      "text/plain": [
       "          Unnamed: 0  region1  region2  region3\n",
       "Salesman                                       \n",
       "Dinesh             0     7800   6500.0   4590.0\n",
       "Mahesh             1     8900      0.0   3790.0\n",
       "Ramesh             2    10800   2300.0      0.0\n",
       "Suresh             3     5600   6790.0   2300.0\n",
       "Basha              4     7600   2300.0   2400.0"
      ]
     },
     "execution_count": 171,
     "metadata": {},
     "output_type": "execute_result"
    }
   ],
   "source": [
    "df3"
   ]
  },
  {
   "cell_type": "code",
   "execution_count": 128,
   "id": "9e018615",
   "metadata": {},
   "outputs": [
    {
     "name": "stderr",
     "output_type": "stream",
     "text": [
      "C:\\Users\\kirta\\AppData\\Local\\Temp\\ipykernel_9796\\2069935847.py:1: FutureWarning: Dropping of nuisance columns in DataFrame reductions (with 'numeric_only=None') is deprecated; in a future version this will raise TypeError.  Select only valid columns before calling the reduction.\n",
      "  df1_vis = pd.DataFrame(df1.mean())\n",
      "C:\\Users\\kirta\\AppData\\Local\\Temp\\ipykernel_9796\\2069935847.py:2: FutureWarning: Dropping of nuisance columns in DataFrame reductions (with 'numeric_only=None') is deprecated; in a future version this will raise TypeError.  Select only valid columns before calling the reduction.\n",
      "  df3_vis = pd.DataFrame(df3.mean())\n"
     ]
    }
   ],
   "source": [
    "df1_vis = pd.DataFrame(df1.mean())\n",
    "df3_vis = pd.DataFrame(df3.mean())"
   ]
  },
  {
   "cell_type": "code",
   "execution_count": 133,
   "id": "c4290c0c",
   "metadata": {},
   "outputs": [
    {
     "name": "stderr",
     "output_type": "stream",
     "text": [
      "C:\\Users\\kirta\\AppData\\Local\\Temp\\ipykernel_9796\\998641035.py:1: FutureWarning: Dropping of nuisance columns in DataFrame reductions (with 'numeric_only=None') is deprecated; in a future version this will raise TypeError.  Select only valid columns before calling the reduction.\n",
      "  df3_vis = pd.DataFrame(df3.mean())\n"
     ]
    }
   ],
   "source": [
    "df3_vis = pd.DataFrame(df3.mean())"
   ]
  },
  {
   "cell_type": "code",
   "execution_count": 129,
   "id": "d9d656d3",
   "metadata": {},
   "outputs": [
    {
     "data": {
      "text/plain": [
       "<AxesSubplot:>"
      ]
     },
     "execution_count": 129,
     "metadata": {},
     "output_type": "execute_result"
    },
    {
     "data": {
      "image/png": "[encoded data removed]",
      "text/plain": [
       "<Figure size 432x288 with 1 Axes>"
      ]
     },
     "metadata": {
      "needs_background": "light"
     },
     "output_type": "display_data"
    }
   ],
   "source": [
    "df1_vis.plot()"
   ]
  },
  {
   "cell_type": "code",
   "execution_count": 163,
   "id": "d051361a",
   "metadata": {},
   "outputs": [
    {
     "data": {
      "text/plain": [
       "<AxesSubplot:>"
      ]
     },
     "execution_count": 163,
     "metadata": {},
     "output_type": "execute_result"
    },
    {
     "data": {
      "image/png": "[encoded data removed]",
      "text/plain": [
       "<Figure size 432x288 with 1 Axes>"
      ]
     },
     "metadata": {
      "needs_background": "light"
     },
     "output_type": "display_data"
    }
   ],
   "source": [
    "df1_vis.plot.bar()"
   ]
  },
  {
   "cell_type": "code",
   "execution_count": 172,
   "id": "b2342237",
   "metadata": {},
   "outputs": [
    {
     "data": {
      "text/plain": [
       "<AxesSubplot:>"
      ]
     },
     "execution_count": 172,
     "metadata": {},
     "output_type": "execute_result"
    },
    {
     "data": {
      "image/png": "[encoded data removed]",
      "text/plain": [
       "<Figure size 432x288 with 1 Axes>"
      ]
     },
     "metadata": {
      "needs_background": "light"
     },
     "output_type": "display_data"
    }
   ],
   "source": [
    "df3_vis.plot()"
   ]
  },
  {
   "cell_type": "code",
   "execution_count": 173,
   "id": "e18b2c65",
   "metadata": {},
   "outputs": [
    {
     "data": {
      "text/plain": [
       "<AxesSubplot:>"
      ]
     },
     "execution_count": 173,
     "metadata": {},
     "output_type": "execute_result"
    },
    {
     "data": {
      "image/png": "[encoded data removed]",
      "text/plain": [
       "<Figure size 432x288 with 1 Axes>"
      ]
     },
     "metadata": {
      "needs_background": "light"
     },
     "output_type": "display_data"
    }
   ],
   "source": [
    "df3_vis.plot.bar()"
   ]
  },
  {
   "cell_type": "code",
   "execution_count": null,
   "id": "a879ad36",
   "metadata": {},
   "outputs": [],
   "source": []
  },
  {
   "cell_type": "code",
   "execution_count": null,
   "id": "b4352242",
   "metadata": {},
   "outputs": [],
   "source": []
  },
  {
   "cell_type": "code",
   "execution_count": null,
   "id": "43077290",
   "metadata": {},
   "outputs": [],
   "source": []
  },
  {
   "cell_type": "code",
   "execution_count": null,
   "id": "796ef682",
   "metadata": {},
   "outputs": [],
   "source": []
  }
 ],
 "metadata": {
  "kernelspec": {
   "display_name": "Python 3 (ipykernel)",
   "language": "python",
   "name": "python3"
  },
  "language_info": {
   "codemirror_mode": {
    "name": "ipython",
    "version": 3
   },
   "file_extension": ".py",
   "mimetype": "text/x-python",
   "name": "python",
   "nbconvert_exporter": "python",
   "pygments_lexer": "ipython3",
   "version": "3.9.12"
  }
 },
 "nbformat": 4,
 "nbformat_minor": 5
}
