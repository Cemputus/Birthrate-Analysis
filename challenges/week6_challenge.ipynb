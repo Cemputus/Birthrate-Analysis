{
 "cells": [
  {
   "cell_type": "markdown",
   "metadata": {
    "id": "GQdt4CqVZl7l"
   },
   "source": [
    "1.Write a program that read contents of the file ‘messages’ one character at a time and prints each character that is read."
   ]
  },
  {
   "cell_type": "code",
   "execution_count": 1,
   "metadata": {
    "id": "cWyv4qGxZqXZ"
   },
   "outputs": [
    {
     "name": "stdout",
     "output_type": "stream",
     "text": [
      "hello world how are you\n"
     ]
    }
   ],
   "source": [
    "f = open('first.txt','r')\n",
    "for line in f:\n",
    "    print(line)\n",
    "for character in f:\n",
    "    print(character)"
   ]
  },
  {
   "cell_type": "markdown",
   "metadata": {
    "id": "t6bYH0ZWZqtk"
   },
   "source": [
    "2.Write a Python program that searches for a file, obtains its size and reports the size in bytes/ KB/ MB as appropriate"
   ]
  },
  {
   "cell_type": "code",
   "execution_count": 8,
   "metadata": {
    "id": "0E-3aMTGJZYy"
   },
   "outputs": [
    {
     "name": "stdout",
     "output_type": "stream",
     "text": [
      "Size of file is 638.kilobytes\n"
     ]
    }
   ],
   "source": [
    "fname='salaries.csv'\n",
    "import os\n",
    "print('Size of file is {}.kilobytes'.format(os.path.getsize(fname)))"
   ]
  },
  {
   "cell_type": "markdown",
   "metadata": {
    "id": "Ee6ha2RlZr3x"
   },
   "source": [
    "3.Write a program to accept a filename from the user, create a file with that name(if it does not exist) and write some content into the file"
   ]
  },
  {
   "cell_type": "code",
   "execution_count": 2,
   "metadata": {
    "id": "sJogMQOiZso-"
   },
   "outputs": [
    {
     "name": "stdout",
     "output_type": "stream",
     "text": [
      "Enter a file name :sample3.txt\n",
      "Hello my world\n",
      "\n",
      "how are you???\n",
      "\n"
     ]
    }
   ],
   "source": [
    "import json\n",
    "s=input('Enter a file name :')\n",
    "file = open(s,'w')\n",
    "file.write('Hello my world\\n')\n",
    "file.write('how are you???\\n')\n",
    "file=open(s,'r')\n",
    "lines=file.readlines()\n",
    "for line in lines:\n",
    "    print(line)"
   ]
  },
  {
   "cell_type": "markdown",
   "metadata": {
    "id": "Gy_8UEccZs4_"
   },
   "source": [
    "4.Write a program to read a file and display its contents along with line numbers before each line"
   ]
  },
  {
   "cell_type": "code",
   "execution_count": null,
   "metadata": {
    "colab": {
     "base_uri": "https://localhost:8080/"
    },
    "id": "L_WiQHG202uZ",
    "outputId": "ecf02d6b-8eec-460c-bc95-3d7ec557fc68"
   },
   "outputs": [
    {
     "name": "stdout",
     "output_type": "stream",
     "text": [
      "Line1: hello\n",
      "Line2: world\n",
      "Line3: computerworld\n"
     ]
    }
   ],
   "source": [
    "L = [\"hello\\n\", \"world\\n\", \"computerworld\\n\"]\n",
    "file1 = open('myfile.txt', 'w')\n",
    "file1.writelines(L)\n",
    "file1.close()\n",
    "file1 = open('myfile.txt', 'r')\n",
    "Lines = file1.readlines()\n",
    "count = 0\n",
    "for line in Lines:\n",
    "\tcount += 1\n",
    "\tprint(\"Line{}: {}\".format(count, line.strip()))\n"
   ]
  },
  {
   "cell_type": "markdown",
   "metadata": {
    "id": "VJrEb63IZuEJ"
   },
   "source": [
    "5.Write a program to copy the contents of one file into another"
   ]
  },
  {
   "cell_type": "code",
   "execution_count": 2,
   "metadata": {
    "id": "yKsXLr3kZvEN"
   },
   "outputs": [
    {
     "name": "stdout",
     "output_type": "stream",
     "text": [
      "second.txt\n"
     ]
    }
   ],
   "source": [
    "with open('C:first.txt','r') as firstfile, open('C:second.txt','w') as secondfile:\n",
    "\tfor line in firstfile:\n",
    "\t\t\tsecondfile.write(line)\n",
    "print('second.txt')"
   ]
  },
  {
   "cell_type": "markdown",
   "metadata": {
    "id": "FUFowDZlZvvh"
   },
   "source": [
    "6.Write a program to append the contents of one file into another"
   ]
  },
  {
   "cell_type": "code",
   "execution_count": null,
   "metadata": {
    "id": "l-R6GOwUZwzV"
   },
   "outputs": [],
   "source": [
    "name1 = input(\"Enter file to be read from: \")\n",
    "name2 = input(\"Enter file to be appended to: \")\n",
    "fin = open(name1, \"r\")\n",
    "data2 = fin.read()\n",
    "fin.close()\n",
    "fout = open(name2, \"a\")\n",
    "fout.write(data2)\n",
    "fout.close()"
   ]
  },
  {
   "cell_type": "markdown",
   "metadata": {
    "id": "WLnNKbCWZxEK"
   },
   "source": [
    "7.Suppose a file contains student records, with each record containing name and age of student. Write a program to read these records and display them in sorted order by name"
   ]
  },
  {
   "cell_type": "code",
   "execution_count": 6,
   "metadata": {},
   "outputs": [
    {
     "name": "stdout",
     "output_type": "stream",
     "text": [
      "{'tom': 21, 'jerry': 20, 'rose': 22}\n",
      "jerry : 20\n",
      "rose : 22\n",
      "tom : 21\n"
     ]
    }
   ],
   "source": [
    "import json\n",
    "file = open('name.txt','r')\n",
    "a=json.load(file)\n",
    "print(a)\n",
    "for line in sorted(a):\n",
    "    print(line,\":\",a[line])\n",
    "file.close()"
   ]
  },
  {
   "cell_type": "markdown",
   "metadata": {
    "id": "YJ4BsVBGZyS6"
   },
   "source": [
    "8.Suppose there are three modules m1.py, m2.py and m3.py containing functions f1(), f2() and f3() respectively. Write a program to use these functions"
   ]
  },
  {
   "cell_type": "code",
   "execution_count": 2,
   "metadata": {
    "id": "BCqzvdqPZzYZ"
   },
   "outputs": [
    {
     "name": "stdout",
     "output_type": "stream",
     "text": [
      "Enter value of a :10\n",
      "Enter value of b :5\n",
      "Addition of two numbers is 15\n",
      "Enter value of a :10\n",
      "Enter value of b :5\n",
      "Subtraction of two numbers is 5\n",
      "Enter value of a :10\n",
      "Enter value of b :5\n",
      "Multiplication of two numbers is 50\n"
     ]
    }
   ],
   "source": [
    "import m1\n",
    "a=int(input(\"Enter value of a :\"))\n",
    "b=int(input(\"Enter value of b :\"))\n",
    "print(\"Addition of two numbers is\",m1.f1(a,b))\n",
    "import m2\n",
    "a=int(input(\"Enter value of a :\"))\n",
    "b=int(input(\"Enter value of b :\"))\n",
    "print(\"Subtraction of two numbers is\",m2.f2(a,b))\n",
    "import m3\n",
    "a=int(input(\"Enter value of a :\"))\n",
    "b=int(input(\"Enter value of b :\"))\n",
    "print(\"Multiplication of two numbers is\",m3.f3(a,b))"
   ]
  },
  {
   "cell_type": "markdown",
   "metadata": {
    "id": "AqwvEvzUZzq5"
   },
   "source": [
    "9.Write a program containing functions fun1(), fun2() and fun3() and some statements. Add suitable code to the program such that you can use it as a module or a normal program"
   ]
  },
  {
   "cell_type": "code",
   "execution_count": 25,
   "metadata": {
    "id": "Ln0VuEkbZ0pk"
   },
   "outputs": [
    {
     "name": "stdout",
     "output_type": "stream",
     "text": [
      "Enter value of a :5\n",
      "Enter value of b :5\n",
      "a Divided by b is 1.0\n",
      "a Mod by b is 0\n",
      "a = b True\n"
     ]
    }
   ],
   "source": [
    "import module\n",
    "a=int(input(\"Enter value of a :\"))\n",
    "b=int(input(\"Enter value of b :\"))\n",
    "print('a Divided by b is',module.fun1(a,b))\n",
    "print('a Mod by b is',module.fun2(a,b))\n",
    "print('a = b',module.fun3(a,b))"
   ]
  },
  {
   "cell_type": "markdown",
   "metadata": {
    "id": "0H88ZyR9Z1FQ"
   },
   "source": [
    "10.Suppose a module called mod.py contains functions f1(), f2() and f3(). Write three forms of import statements to use these functions in your program"
   ]
  },
  {
   "cell_type": "code",
   "execution_count": 9,
   "metadata": {
    "id": "v9eW29gzKJ2w"
   },
   "outputs": [
    {
     "name": "stdout",
     "output_type": "stream",
     "text": [
      "Enter value of a :4\n",
      "Enter value of b :5\n",
      "a additiction of b is 9\n",
      "a multiplication of b is 20\n",
      "a subtraction of b is -1\n"
     ]
    }
   ],
   "source": [
    "import mod\n",
    "a=int(input(\"Enter value of a :\"))\n",
    "b=int(input(\"Enter value of b :\"))\n",
    "print('a additiction of b is',mod.f1(a,b))\n",
    "print('a multiplication of b is',mod.f2(a,b))\n",
    "print('a subtraction of b is',mod.f3(a,b))"
   ]
  }
 ],
 "metadata": {
  "colab": {
   "name": "week6 challenge.ipynb",
   "provenance": []
  },
  "kernelspec": {
   "display_name": "Python 3",
   "language": "python",
   "name": "python3"
  },
  "language_info": {
   "codemirror_mode": {
    "name": "ipython",
    "version": 3
   },
   "file_extension": ".py",
   "mimetype": "text/x-python",
   "name": "python",
   "nbconvert_exporter": "python",
   "pygments_lexer": "ipython3",
   "version": "3.8.8"
  }
 },
 "nbformat": 4,
 "nbformat_minor": 1
}
