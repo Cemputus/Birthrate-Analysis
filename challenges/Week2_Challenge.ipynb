{
 "cells": [
  {
   "cell_type": "markdown",
   "id": "39f5db76",
   "metadata": {},
   "source": [
    "# Week 2 Challenges"
   ]
  },
  {
   "cell_type": "markdown",
   "id": "699f068d",
   "metadata": {},
   "source": [
    "## Quesrion No. 01"
   ]
  },
  {
   "cell_type": "code",
   "execution_count": 103,
   "id": "b0d93b6d",
   "metadata": {},
   "outputs": [
    {
     "name": "stdout",
     "output_type": "stream",
     "text": [
      "Single Line String:  Welcome To Week 2 Challenges.\n",
      "Multi Line String : \n",
      "        Hi Everyone,\n",
      "        Come and join with\n",
      "        week 2 challenges.\n",
      "str1 can change the content as :  STRINGS ARE IMMUTABLE, THEY CANNOT CHANGED AFTER THEY ARE CREATED.\n"
     ]
    }
   ],
   "source": [
    "#Single line string\n",
    "\n",
    "str1 = 'Welcome to week 2 challenges.'\n",
    "\n",
    "\"\"\"\n",
    "Multiline Comments\n",
    "\n",
    "\"\"\"\n",
    "\n",
    "str2 = '''\n",
    "        Hi Everyone,\n",
    "        Come and join with\n",
    "        week 2 challenges.'''\n",
    "\n",
    "print('Single Line String: ',str1.title())\n",
    "print('Multi Line String :',str2)\n",
    "\n",
    "#Strings are immutable, they cannot changed after they are created.\n",
    "\n",
    "str1 = ' Strings are immutable, they cannot changed after they are created.'\n",
    "print('str1 can change the content as :', str1.upper())"
   ]
  },
  {
   "cell_type": "markdown",
   "id": "2f962e47",
   "metadata": {},
   "source": [
    "## Question No. 02"
   ]
  },
  {
   "cell_type": "code",
   "execution_count": 42,
   "id": "c4330f6c",
   "metadata": {},
   "outputs": [
    {
     "name": "stdout",
     "output_type": "stream",
     "text": [
      "H W\n",
      "o o\n",
      "llorld\n",
      "!dlroW olleH\n",
      "World!\n",
      "Hello\n",
      "\n",
      " Another Method for some extraction \n",
      "\n",
      "H W\n",
      "o o\n",
      "llorld\n",
      "!dlroW olleH\n",
      "Hello\n",
      "World!\n"
     ]
    }
   ],
   "source": [
    "#Given String\n",
    "str_1 = \"Hello World!\"\n",
    "\n",
    "# H W\n",
    "print(str_1[str_1.find('H')]+' '+str_1[str_1.find('W')])\n",
    "\n",
    "# o o\n",
    "print(str_1[str_1.find('o')]+' '+str_1[str_1.find('o')])\n",
    "\n",
    "# llorld\n",
    "print(str_1[2:5]+str_1[8:11])\n",
    "\n",
    "#reverse the string\n",
    "print(str_1[::-1])\n",
    "\n",
    "#World!\n",
    "print(str_1[6:])\n",
    "\n",
    "#Hello\n",
    "print(str_1[:5])\n",
    "\n",
    "print(\"\\n Another Method for some extraction \\n\")\n",
    "\n",
    "# -------------- OR -------------------\n",
    "\n",
    "# H W\n",
    "print(str_1[0:1]+' '+str_1[6:7])\n",
    "\n",
    "# o o\n",
    "print(str_1[4:5]+' '+str_1[7:8])\n",
    "\n",
    "# llorld\n",
    "print(str_1[2:5]+str_1[8:11])\n",
    "\n",
    "#reverse the string\n",
    "print(str_1[::-1])\n",
    "\n",
    "list1= str_1.split(' ')\n",
    "#print(list1)\n",
    "\n",
    "#World!\n",
    "print(list1[0])\n",
    "\n",
    "#Hello\n",
    "print(list1[1])\n",
    "\n",
    "\n",
    "\n",
    "\n",
    "\n",
    "\n",
    "\n",
    "\n",
    "    "
   ]
  },
  {
   "cell_type": "markdown",
   "id": "61cc3224",
   "metadata": {},
   "source": [
    "## Question No.03"
   ]
  },
  {
   "cell_type": "code",
   "execution_count": 72,
   "id": "33fe6bc4",
   "metadata": {},
   "outputs": [
    {
     "name": "stdout",
     "output_type": "stream",
     "text": [
      "Welcome contains Alphabets with title cases.\n",
      "Hello World! contains Special characters.\n",
      "Now is the best time ever! contains Special Characters.\n",
      "Now is the best time ever! Beign with word Now True\n",
      "500017 contains digits only.\n",
      "IPhone 6 contains Special Characters.\n"
     ]
    }
   ],
   "source": [
    "# Given Strings\n",
    "\n",
    "Str1 = 'Welcome'\n",
    "\n",
    "Str2 = 'Hello World!'\n",
    "\n",
    "Str3 = 'Now is the best time ever!'\n",
    "\n",
    "Str4 = '500017'\n",
    "\n",
    "Str5 = 'IPhone 6'\n",
    "\n",
    "if Str1.isalnum():\n",
    "    if Str1.isalpha():\n",
    "        if Str1.isupper():\n",
    "            print(Str1,\"contains Alphabets with upper cases.\")\n",
    "        elif Str1.istitle(): \n",
    "            print(Str1,\"contains Alphabets with title cases.\")\n",
    "        else:\n",
    "            print(Str1,\"contains Alphabets with lower cases.\")\n",
    "    elif Str1.isdigit():\n",
    "        print(Str1,\"contains Digits Only.\")\n",
    "    else:\n",
    "        print(Str1,\" Contains Alpha Numeric\")\n",
    "else:\n",
    "    print(Str1,\"contains Special characters.\")\n",
    "        \n",
    "if Str2.isalnum():\n",
    "    if Str2.isalpha():\n",
    "        if Str2.isupper():\n",
    "            print(Str2,\"contains Alphabets with upper cases.\")\n",
    "        elif Str2.istitle():\n",
    "            print(Str2,\"contains Alphabets with title cases.\")\n",
    "        else:\n",
    "            print(Str2,\"contains Alphabets with lower cases.\")\n",
    "    elif Str2.isdigit():\n",
    "        print(Str2,\"contains digits only.\")\n",
    "    else:\n",
    "        print(Str2,\"contains Alpha Numeric.\")\n",
    "else:\n",
    "    print(Str2,\"contains Special characters.\")\n",
    "    \n",
    "if Str3.isalnum():\n",
    "    if Str3.isalpha():\n",
    "        if Str3.isupper():\n",
    "            print(Str3,\"contains Alphabets with upper cases.\")\n",
    "        elif Str3.istitle():\n",
    "            print(Str3,\"contains Alphabets with title cases.\")\n",
    "        else:\n",
    "            print(Str3,\"contains Alphabets with lower cases.\")\n",
    "    elif Str3.isdigit():\n",
    "        print(Str3,\"Contains digits only.\")\n",
    "    else: \n",
    "        print(Str3,\"contains Alpha Numeric.\")\n",
    "else:\n",
    "    print(Str3,\"contains Special Characters.\")\n",
    "if Str3.startswith(\"Now\"):\n",
    "    print(Str3,\"Beign with word Now\", Str3.startswith(\"Now\"))\n",
    "if Str3.endswith(\"Now\"):\n",
    "    print(Str3,\"Ends with Word Now\", Str3.endswith('Now'))\n",
    "    \n",
    "if Str4.isalnum():\n",
    "    if Str4.isalpha():\n",
    "        if Str4.isupper():\n",
    "            print(Str4,\"contains Alphabets with upper cases.\")\n",
    "        elif Str4.istitle():\n",
    "            print(Str4,\"contains Alphabets with title cases.\")\n",
    "        else:\n",
    "            print(Str4,\"contains Alphabets with lower cases.\")\n",
    "    elif Str4.isdigit():\n",
    "        print(Str4,\"contains digits only.\")\n",
    "    else:\n",
    "        print(Str4,\"contains Alpha Numeric.\")\n",
    "else:\n",
    "    print(Str4,\"contains special characters.\")\n",
    "    \n",
    "if Str5.isalnum():\n",
    "    if Str5.isalpha():\n",
    "        if Str5.isupper():\n",
    "            print(Str5,\"contains Alphabets with upper cases.\")\n",
    "        elif Str5.istitle():\n",
    "            print(Str5,\"contains Alphabets with title cases.\")\n",
    "        else:\n",
    "            print(Str5,\"contains Alphabets with lower cases.\")\n",
    "    elif Str5.isdigit():\n",
    "        print(Str5,\"contains digits only.\") \n",
    "    else:\n",
    "        print(Str5,\"contains Alpha Numeric.\")\n",
    "else:\n",
    "    print(Str5,\"contains Special Characters.\")\n"
   ]
  },
  {
   "cell_type": "markdown",
   "id": "a3806ff4",
   "metadata": {},
   "source": [
    "## Question No. 04"
   ]
  },
  {
   "cell_type": "code",
   "execution_count": 74,
   "id": "e6409d50",
   "metadata": {},
   "outputs": [
    {
     "name": "stdout",
     "output_type": "stream",
     "text": [
      "Enter the sentence: convert the sentence as a title cases\n",
      "Convert the sentence as Title cases: \n",
      " Convert The Sentence As A Title Cases\n"
     ]
    }
   ],
   "source": [
    "#User Input\n",
    "sen = input(\"Enter the sentence: \")\n",
    "print(\"Convert the sentence as Title cases: \\n\", sen.title())"
   ]
  },
  {
   "cell_type": "markdown",
   "id": "b4ef3ea0",
   "metadata": {},
   "source": [
    "## Question No. 05"
   ]
  },
  {
   "cell_type": "code",
   "execution_count": 76,
   "id": "07fafdbc",
   "metadata": {},
   "outputs": [
    {
     "name": "stdout",
     "output_type": "stream",
     "text": [
      "Enter the integer number: 1280\n",
      "1280 as a even number.\n"
     ]
    }
   ],
   "source": [
    "# Find the integer as an even or odd digit\n",
    "num = int(input(\"Enter the integer number: \"))\n",
    "if num % 2 == 0:\n",
    "    print(num, \"as a even number.\")\n",
    "else:\n",
    "    print(num,\"as a odd number.\")"
   ]
  },
  {
   "cell_type": "markdown",
   "id": "cbf1a176",
   "metadata": {},
   "source": [
    "## Question No. 06"
   ]
  },
  {
   "cell_type": "code",
   "execution_count": 84,
   "id": "1740a974",
   "metadata": {},
   "outputs": [
    {
     "name": "stdout",
     "output_type": "stream",
     "text": [
      "Enter the single digit character: F\n",
      "f is Consonant.\n"
     ]
    }
   ],
   "source": [
    "#Entered number as Vowel or consonant.\n",
    "a = input(\"Enter the single digit character: \").lower()\n",
    "if a == 'a' or a  == 'e' or a == 'i' or a == 'o' or a == 'u':\n",
    "    print(a,\"is Vowel.\")\n",
    "else:\n",
    "    print(a,\"is Consonant.\")"
   ]
  },
  {
   "cell_type": "markdown",
   "id": "b88c5543",
   "metadata": {},
   "source": [
    "## Question No. 07"
   ]
  },
  {
   "cell_type": "code",
   "execution_count": 88,
   "id": "bf1ba0ea",
   "metadata": {},
   "outputs": [
    {
     "name": "stdout",
     "output_type": "stream",
     "text": [
      "Enter the month :November\n",
      "Month of November contains 30days.\n"
     ]
    }
   ],
   "source": [
    "#Find the Length of month in days\n",
    "\n",
    "month = input(\"Enter the month :\").title()\n",
    "\n",
    "#Month of 31days\n",
    "if month == 'January'or month == 'March' or month == 'May' or month == 'July' or month == 'August' or month == 'October'or month == 'December':\n",
    "    print(\"Month of\",month,\"contains 31days.\" )\n",
    "elif month == 'February':\n",
    "    print(\"Month of\",month,\"contains 28 or 29days.\")\n",
    "elif month == 'April' or month == 'June' or month == 'September' or month == 'November':\n",
    "    print(\"Month of\",month,\"contains 30days.\")\n",
    "else:\n",
    "    print(\"Month of\",month,\"is invalid.\")\n",
    "    "
   ]
  },
  {
   "cell_type": "markdown",
   "id": "b542a11a",
   "metadata": {},
   "source": [
    "## Question No. 08"
   ]
  },
  {
   "cell_type": "code",
   "execution_count": 93,
   "id": "49282074",
   "metadata": {},
   "outputs": [
    {
     "name": "stdout",
     "output_type": "stream",
     "text": [
      "Enter the first side of triangel:2\n",
      "Enter the second side of triangel:3\n",
      "Enter the third side of triangel:2\n",
      "Any two side are equal and one side is differ 2 3 2 It is an Isosceles Triangle.\n"
     ]
    }
   ],
   "source": [
    "#Type of a triangle\n",
    "\n",
    "side1 = int(input(\"Enter the first side of triangel:\"))\n",
    "side2 = int(input(\"Enter the second side of triangel:\"))\n",
    "side3 = int(input(\"Enter the third side of triangel:\"))\n",
    "\n",
    "if side1 == side2 and side2 == side3 and side1== side3:\n",
    "    print(\"Three sides are equal\",side1,side2,side3,\"It is an Equilateral Triangle.\")\n",
    "elif side1 != side2 and side2 !=side3 and side1 != side3:\n",
    "    print(\"Three sides are different\",side1,side2,side3,\"It is a Scalene Triangle.\")\n",
    "else:\n",
    "    print(\"Any two side are equal and one side is differ\",side1,side2,side3,\"It is an Isosceles Triangle.\")"
   ]
  },
  {
   "cell_type": "markdown",
   "id": "64dab489",
   "metadata": {},
   "source": [
    "## Question No. 09"
   ]
  },
  {
   "cell_type": "code",
   "execution_count": 95,
   "id": "b30233d0",
   "metadata": {},
   "outputs": [
    {
     "name": "stdout",
     "output_type": "stream",
     "text": [
      "Enter the year :2000\n",
      "{} is leap year. 2000\n"
     ]
    }
   ],
   "source": [
    "#Find ayear is leap year or not\n",
    "year = int(input(\"Enter the year :\"))\n",
    "\n",
    "if year % 400 == 0 or year % 100 != 0 and year % 4 == 0:\n",
    "    print(\"{} is leap year.\",format(year))\n",
    "else:\n",
    "    print(\"{} is not a leap year.\",format(year))"
   ]
  },
  {
   "cell_type": "markdown",
   "id": "57f2d396",
   "metadata": {},
   "source": [
    "## Question No. 10\n"
   ]
  },
  {
   "cell_type": "code",
   "execution_count": 107,
   "id": "221ec86a",
   "metadata": {},
   "outputs": [
    {
     "name": "stdout",
     "output_type": "stream",
     "text": [
      "Enter the quadratic value a:5\n",
      "Enter the quadratic value b:10\n",
      "Enter the quadratic value c:20\n",
      "The Quadratic solutions are (-1-1.7320508075688774j) and (-1+1.7320508075688774j)\n"
     ]
    }
   ],
   "source": [
    "# Quadratic equation\n",
    "\n",
    "import cmath\n",
    "a = int(input(\"Enter the quadratic value a:\"))\n",
    "b = int(input(\"Enter the quadratic value b:\"))\n",
    "c = int(input(\"Enter the quadratic value c:\"))\n",
    "\n",
    "#Equation d = b^2 - 4*a*c then answer is ans1 = -b-sqrt(d)/2a ans2 = -b+sqrt(d)/2a\n",
    "\n",
    "d = (b**2) - (4*a*c)\n",
    "\n",
    "ans1 = (-b-(cmath.sqrt(d)))/(2*a)\n",
    "ans2 = (-b+(cmath.sqrt(d)))/(2*a)\n",
    "\n",
    "print(\"The Quadratic solutions are\",ans1, \"and\",ans2)"
   ]
  },
  {
   "cell_type": "code",
   "execution_count": null,
   "id": "96b161a1",
   "metadata": {},
   "outputs": [],
   "source": []
  },
  {
   "cell_type": "code",
   "execution_count": null,
   "id": "c7ecf1a2",
   "metadata": {},
   "outputs": [],
   "source": []
  }
 ],
 "metadata": {
  "kernelspec": {
   "display_name": "Python 3 (ipykernel)",
   "language": "python",
   "name": "python3"
  },
  "language_info": {
   "codemirror_mode": {
    "name": "ipython",
    "version": 3
   },
   "file_extension": ".py",
   "mimetype": "text/x-python",
   "name": "python",
   "nbconvert_exporter": "python",
   "pygments_lexer": "ipython3",
   "version": "3.9.12"
  }
 },
 "nbformat": 4,
 "nbformat_minor": 5
}
