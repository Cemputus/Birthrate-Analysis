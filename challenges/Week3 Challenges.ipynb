{
 "cells": [
  {
   "cell_type": "markdown",
   "id": "c9e06fb9",
   "metadata": {},
   "source": [
    "# Week3 Challenges"
   ]
  },
  {
   "cell_type": "markdown",
   "id": "42dc189e",
   "metadata": {},
   "source": [
    "## Question No. 01"
   ]
  },
  {
   "cell_type": "code",
   "execution_count": 86,
   "id": "873cbe51",
   "metadata": {},
   "outputs": [
    {
     "name": "stdout",
     "output_type": "stream",
     "text": [
      "Enter the positive integers:15\n",
      "Odd Numbers are : 1\n",
      "Odd Numbers are : 3\n",
      "Odd Numbers are : 5\n",
      "Odd Numbers are : 7\n",
      "Odd Numbers are : 9\n",
      "Odd Numbers are : 11\n",
      "Odd Numbers are : 13\n",
      "Odd Numbers are : 15\n",
      "Total odd numbers as : 8\n"
     ]
    }
   ],
   "source": [
    "n = int(input(\"Enter the positive integers:\"))\n",
    "count = 0\n",
    "if n>10:\n",
    "    for i in range(1,n+1):\n",
    "        if(i%2 == 0):\n",
    "            continue\n",
    "        else:\n",
    "            print(\"Odd Numbers are :\",i)\n",
    "            count += 1\n",
    "    print(\"Total odd numbers as :\",count)\n",
    "else:\n",
    "    print(\"The given number is below 10\")\n",
    "            \n",
    "        "
   ]
  },
  {
   "cell_type": "markdown",
   "id": "43f16563",
   "metadata": {},
   "source": [
    "## Question No. 02"
   ]
  },
  {
   "cell_type": "code",
   "execution_count": 88,
   "id": "3791ca81",
   "metadata": {},
   "outputs": [
    {
     "name": "stdout",
     "output_type": "stream",
     "text": [
      "Enter the positive integer: 50\n",
      "2\n",
      "3\n",
      "5\n",
      "7\n",
      "11\n",
      "13\n",
      "17\n",
      "19\n",
      "23\n",
      "29\n",
      "31\n",
      "37\n",
      "41\n",
      "43\n",
      "47\n"
     ]
    }
   ],
   "source": [
    "n = int(input(\"Enter the positive integer: \"))\n",
    "p = 2\n",
    "if n>10:\n",
    "    for i in range(2,n+1):\n",
    "        for j in range(2,i):\n",
    "            if i%j == 0:\n",
    "                break\n",
    "        else:\n",
    "            print(i)\n",
    "else:\n",
    "    print(\"Given number is below 10\")"
   ]
  },
  {
   "cell_type": "markdown",
   "id": "59f704be",
   "metadata": {},
   "source": [
    "## Question No. 03 "
   ]
  },
  {
   "cell_type": "code",
   "execution_count": 89,
   "id": "add0c4a6",
   "metadata": {},
   "outputs": [
    {
     "name": "stdout",
     "output_type": "stream",
     "text": [
      "Enter the total numbers: 5\n",
      "Enter the values:3\n",
      "Enter the values:5\n",
      "Enter the values:6\n",
      "Enter the values:7\n",
      "Enter the values:8\n",
      "5.8\n"
     ]
    }
   ],
   "source": [
    "num = int(input(\"Enter the total numbers: \"))\n",
    "sum =0\n",
    "if num > 0:\n",
    "    for i in range(num):\n",
    "        a = int(input(\"Enter the values:\"))\n",
    "        sum += a\n",
    "    avg = sum / num\n",
    "    print(avg)\n",
    "else:\n",
    "    print(\"The Entered number as below Zero\")"
   ]
  },
  {
   "cell_type": "markdown",
   "id": "d58611f9",
   "metadata": {},
   "source": [
    "## Question No. 04"
   ]
  },
  {
   "cell_type": "code",
   "execution_count": 91,
   "id": "5b0c6ce8",
   "metadata": {},
   "outputs": [
    {
     "name": "stdout",
     "output_type": "stream",
     "text": [
      "Enter the number: 12\n",
      "Multiplication of 12 * 1 is : 12\n",
      "Multiplication of 12 * 2 is : 24\n",
      "Multiplication of 12 * 3 is : 36\n",
      "Multiplication of 12 * 4 is : 48\n",
      "Multiplication of 12 * 5 is : 60\n",
      "Multiplication of 12 * 6 is : 72\n",
      "Multiplication of 12 * 7 is : 84\n",
      "Multiplication of 12 * 8 is : 96\n",
      "Multiplication of 12 * 9 is : 108\n",
      "Multiplication of 12 * 10 is : 120\n",
      "Multiplication of 12 * 11 is : 132\n",
      "Multiplication of 12 * 12 is : 144\n",
      "-------Certain Limit for multiplication-----\n",
      "Multiplication of 12 * 1 is : 12\n",
      "Multiplication of 12 * 2 is : 24\n",
      "Multiplication of 12 * 3 is : 36\n",
      "Multiplication of 12 * 4 is : 48\n",
      "Multiplication of 12 * 5 is : 60\n",
      "Multiplication of 12 * 6 is : 72\n",
      "Multiplication of 12 * 7 is : 84\n",
      "Multiplication of 12 * 8 is : 96\n",
      "Multiplication of 12 * 9 is : 108\n",
      "Multiplication of 12 * 10 is : 120\n",
      "Multiplication of 12 * 11 is : 132\n",
      "Multiplication of 12 * 12 is : 144\n",
      "Multiplication of 12 * 13 is : 156\n",
      "Multiplication of 12 * 14 is : 168\n",
      "Multiplication of 12 * 15 is : 180\n"
     ]
    }
   ],
   "source": [
    "n = int(input(\"Enter the number: \"))\n",
    "\n",
    "for i in range(1,n+1):\n",
    "    print(\"Multiplication of\",n, \"*\",i,\"is :\",i*n)\n",
    "    \n",
    "print(\"-------Certain Limit for multiplication-----\")\n",
    "\n",
    "for i in range(1,16):\n",
    "    print(\"Multiplication of\",n, \"*\",i,\"is :\",i*n)"
   ]
  },
  {
   "cell_type": "markdown",
   "id": "14bbfb06",
   "metadata": {},
   "source": [
    "## Question No. 05"
   ]
  },
  {
   "cell_type": "code",
   "execution_count": 62,
   "id": "3ac0444e",
   "metadata": {},
   "outputs": [
    {
     "name": "stdout",
     "output_type": "stream",
     "text": [
      "Enter the  number: 5\n",
      "Enter temperature in celsius: 3\n",
      "celsius =             3.0, Fehreheit =            37.4\n",
      "Enter temperature in celsius: 40\n",
      "celsius =            40.0, Fehreheit =           104.0\n",
      "Enter temperature in celsius: 50\n",
      "celsius =            50.0, Fehreheit =           122.0\n",
      "Enter temperature in celsius: 30\n",
      "celsius =            30.0, Fehreheit =            86.0\n",
      "Enter temperature in celsius: 15\n",
      "celsius =            15.0, Fehreheit =            59.0\n"
     ]
    }
   ],
   "source": [
    "num = int(input(\"Enter the  number: \"))\n",
    "str1= ''\n",
    "for i in range(num):\n",
    "    celsius = float(input(\"Enter temperature in celsius: \"))\n",
    "    far = (celsius*1.8)+32\n",
    "    print('celsius = {0:15}, Fehreheit = {1:15}'.format(celsius,far))"
   ]
  },
  {
   "cell_type": "markdown",
   "id": "809f198a",
   "metadata": {},
   "source": [
    "## "
   ]
  },
  {
   "cell_type": "markdown",
   "id": "37d19849",
   "metadata": {},
   "source": [
    "## Question No. 06"
   ]
  },
  {
   "cell_type": "code",
   "execution_count": 94,
   "id": "9bfdabaa",
   "metadata": {},
   "outputs": [
    {
     "name": "stdout",
     "output_type": "stream",
     "text": [
      "Enter the sentence: madam\n",
      "Given string  madam is a panlindrome\n"
     ]
    }
   ],
   "source": [
    "str1 = input(\"Enter the sentence: \")\n",
    "\n",
    "rev = str1[::-1]\n",
    "\n",
    "for i in range(len(str1)):\n",
    "    if str1[i] != rev[i]:\n",
    "        print(\"Given string \",str1,\" is not a palindrome\")\n",
    "        break\n",
    "else:\n",
    "    print(\"Given string \",str1,\"is a panlindrome\")"
   ]
  },
  {
   "cell_type": "markdown",
   "id": "da101cd7",
   "metadata": {},
   "source": [
    "## Question No. 07"
   ]
  },
  {
   "cell_type": "code",
   "execution_count": 74,
   "id": "bc9858b7",
   "metadata": {},
   "outputs": [
    {
     "name": "stdout",
     "output_type": "stream",
     "text": [
      "Enter the first number : 15\n",
      "Enter the second nmber : 75\n",
      "GCD is :  15\n"
     ]
    }
   ],
   "source": [
    "# GCD of two positive integer is n and m\n",
    "n = int(input(\"Enter the first number : \"))\n",
    "m = int(input(\"Enter the second nmber : \"))\n",
    "d =1\n",
    "\n",
    "while(d<=n and d<=m):\n",
    "    if(n % d == 0 and m % d == 0):\n",
    "        gcd = d\n",
    "    d = d + 1\n",
    "print(\"GCD is : \",gcd)"
   ]
  },
  {
   "cell_type": "markdown",
   "id": "4038c217",
   "metadata": {},
   "source": [
    "## Question No. 08"
   ]
  },
  {
   "cell_type": "code",
   "execution_count": 77,
   "id": "6d85ec70",
   "metadata": {},
   "outputs": [
    {
     "name": "stdout",
     "output_type": "stream",
     "text": [
      "Enter the integer number :350\n",
      "2\n",
      "5\n",
      "7\n"
     ]
    }
   ],
   "source": [
    "n = int(input(\"Enter the integer number :\"))\n",
    "\n",
    "p = 2\n",
    "if n>=2:\n",
    "    for i in range(2,n+1):\n",
    "        if n % i == 0:\n",
    "            count = 1\n",
    "            for j in range(2,(i//2+1)):\n",
    "                if i % j == 0:\n",
    "                    count = 0\n",
    "                    break\n",
    "            if(count == 1):\n",
    "                print(i)\n",
    "else:\n",
    "    print(\"------Error Message----\")"
   ]
  },
  {
   "cell_type": "markdown",
   "id": "ec02993a",
   "metadata": {},
   "source": [
    "## Question No. 09"
   ]
  },
  {
   "cell_type": "code",
   "execution_count": 79,
   "id": "e9f8c58a",
   "metadata": {},
   "outputs": [
    {
     "name": "stdout",
     "output_type": "stream",
     "text": [
      "Enter the binary number : 1010\n",
      "Decimal Number:  10\n"
     ]
    }
   ],
   "source": [
    "str1 = input(\"Enter the binary number : \")\n",
    "\n",
    "n = int(str1)\n",
    "dec = 0\n",
    "power= 1\n",
    "\n",
    "while n>0:\n",
    "    rem = n % 10\n",
    "    n//=10\n",
    "    dec += rem*power\n",
    "    power *= 2\n",
    "print(\"Decimal Number: \", dec)"
   ]
  },
  {
   "cell_type": "markdown",
   "id": "8902c754",
   "metadata": {},
   "source": [
    "## Question No. 10"
   ]
  },
  {
   "cell_type": "code",
   "execution_count": 85,
   "id": "1ec10b09",
   "metadata": {},
   "outputs": [
    {
     "name": "stdout",
     "output_type": "stream",
     "text": [
      "Integers = 500, Floats = 10.5467, Strings = String_Literals\n",
      "Integers = 250, Floats = 780.9756, Strings = TamilNadu\n",
      "------Using Desired orders--------\n",
      "Strings = TamilNadu,Integers = 250, Floats = 780.9756\n"
     ]
    }
   ],
   "source": [
    "# Demonstrate the formatting capabilities of format function on integers, floats and strings\n",
    "\n",
    "# First way - \" String literals\"\n",
    "\n",
    "a,b,name = '500','10.5467','String_Literals'\n",
    "\n",
    "print(f'Integers = {a}, Floats = {b}, Strings = {name}')\n",
    "\n",
    "# Second way - format method [format()]\n",
    "\n",
    "age,i,address = '250','780.9756','TamilNadu'\n",
    "\n",
    "print('Integers = {}, Floats = {}, Strings = {}'.format(age,i,address))\n",
    "\n",
    "print('------Using Desired orders--------')\n",
    "\n",
    "print('Strings = {2},Integers = {0}, Floats = {1}'.format(age,i,address))"
   ]
  },
  {
   "cell_type": "code",
   "execution_count": null,
   "id": "356d7f62",
   "metadata": {},
   "outputs": [],
   "source": []
  }
 ],
 "metadata": {
  "kernelspec": {
   "display_name": "Python 3 (ipykernel)",
   "language": "python",
   "name": "python3"
  },
  "language_info": {
   "codemirror_mode": {
    "name": "ipython",
    "version": 3
   },
   "file_extension": ".py",
   "mimetype": "text/x-python",
   "name": "python",
   "nbconvert_exporter": "python",
   "pygments_lexer": "ipython3",
   "version": "3.9.12"
  }
 },
 "nbformat": 4,
 "nbformat_minor": 5
}
