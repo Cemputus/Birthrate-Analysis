{
 "cells": [
  {
   "cell_type": "markdown",
   "metadata": {
    "id": "PZuyLIObWVWC"
   },
   "source": [
    "1.Write a program that accepts two integers and displays the result of dividing the first number by the second number. It should raise ZeroDivisionError if the denominator is zero."
   ]
  },
  {
   "cell_type": "code",
   "execution_count": 1,
   "metadata": {
    "id": "OBQYjJXiWV80"
   },
   "outputs": [
    {
     "name": "stdout",
     "output_type": "stream",
     "text": [
      "Enter First Number: 4\n",
      "Enter Second Number: 0\n",
      "division by zero\n"
     ]
    }
   ],
   "source": [
    "try:\n",
    "    num1 = int(input(\"Enter First Number: \"))\n",
    "    num2 = int(input(\"Enter Second Number: \"))\n",
    "    result = num1 / num2\n",
    "    print(result)\n",
    "except ValueError as e:\n",
    "    print(\"Invalid Input Please Input Integer...\")\n",
    "except ZeroDivisionError as e:\n",
    "    print(e)"
   ]
  },
  {
   "cell_type": "markdown",
   "metadata": {
    "id": "JGQbp5q3WWK4"
   },
   "source": [
    "2.Implement the above program with the help of Assertion"
   ]
  },
  {
   "cell_type": "code",
   "execution_count": 2,
   "metadata": {
    "id": "HY0OHr95WWkb"
   },
   "outputs": [
    {
     "name": "stdout",
     "output_type": "stream",
     "text": [
      "Enter First Number: 4\n",
      "Enter Second Number: 0\n"
     ]
    },
    {
     "ename": "AssertionError",
     "evalue": "ZeroDivisionError",
     "output_type": "error",
     "traceback": [
      "\u001b[1;31m---------------------------------------------------------------------------\u001b[0m",
      "\u001b[1;31mAssertionError\u001b[0m                            Traceback (most recent call last)",
      "\u001b[1;32m<ipython-input-2-18fca0156859>\u001b[0m in \u001b[0;36m<module>\u001b[1;34m\u001b[0m\n\u001b[0;32m      1\u001b[0m \u001b[0mnum1\u001b[0m \u001b[1;33m=\u001b[0m \u001b[0mint\u001b[0m\u001b[1;33m(\u001b[0m\u001b[0minput\u001b[0m\u001b[1;33m(\u001b[0m\u001b[1;34m\"Enter First Number: \"\u001b[0m\u001b[1;33m)\u001b[0m\u001b[1;33m)\u001b[0m\u001b[1;33m\u001b[0m\u001b[1;33m\u001b[0m\u001b[0m\n\u001b[0;32m      2\u001b[0m \u001b[0mnum2\u001b[0m \u001b[1;33m=\u001b[0m \u001b[0mint\u001b[0m\u001b[1;33m(\u001b[0m\u001b[0minput\u001b[0m\u001b[1;33m(\u001b[0m\u001b[1;34m\"Enter Second Number: \"\u001b[0m\u001b[1;33m)\u001b[0m\u001b[1;33m)\u001b[0m\u001b[1;33m\u001b[0m\u001b[1;33m\u001b[0m\u001b[0m\n\u001b[1;32m----> 3\u001b[1;33m \u001b[1;32massert\u001b[0m \u001b[0mnum2\u001b[0m \u001b[1;33m!=\u001b[0m \u001b[1;36m0\u001b[0m\u001b[1;33m,\u001b[0m\u001b[1;34m'ZeroDivisionError'\u001b[0m\u001b[1;33m\u001b[0m\u001b[1;33m\u001b[0m\u001b[0m\n\u001b[0m\u001b[0;32m      4\u001b[0m \u001b[0mresult\u001b[0m \u001b[1;33m=\u001b[0m \u001b[0mnum1\u001b[0m \u001b[1;33m/\u001b[0m \u001b[0mnum2\u001b[0m\u001b[1;33m\u001b[0m\u001b[1;33m\u001b[0m\u001b[0m\n\u001b[0;32m      5\u001b[0m \u001b[0mprint\u001b[0m\u001b[1;33m(\u001b[0m\u001b[0mresult\u001b[0m\u001b[1;33m)\u001b[0m\u001b[1;33m\u001b[0m\u001b[1;33m\u001b[0m\u001b[0m\n",
      "\u001b[1;31mAssertionError\u001b[0m: ZeroDivisionError"
     ]
    }
   ],
   "source": [
    "num1 = int(input(\"Enter First Number: \"))\n",
    "num2 = int(input(\"Enter Second Number: \"))\n",
    "assert num2 != 0,'ZeroDivisionError'\n",
    "result = num1 / num2\n",
    "print(result)"
   ]
  },
  {
   "cell_type": "markdown",
   "metadata": {
    "id": "Q50bm3CiWWzg"
   },
   "source": [
    "3.Write a program that accepts n positive integers as input and prints their square. If a negative number is entered, then raise ValueError exception and display a relevant error message and make an exit."
   ]
  },
  {
   "cell_type": "code",
   "execution_count": 3,
   "metadata": {},
   "outputs": [
    {
     "name": "stdout",
     "output_type": "stream",
     "text": [
      "Enter a number:8\n",
      "Enter a number:9\n",
      "Enter a number:20\n",
      "Enter a number:-1\n",
      "entered value must be positive\n",
      "Square of 8 is 64\n",
      "Square of 9 is 81\n",
      "Square of 20 is 400\n"
     ]
    }
   ],
   "source": [
    "try:\n",
    "    l=list()\n",
    "    while True:\n",
    "        n=int(input('Enter a number:'))\n",
    "        if n<0:\n",
    "            raise ValueError\n",
    "        else:\n",
    "            l.append(n)\n",
    "except ValueError as v:\n",
    "    print('entered value must be positive')\n",
    "finally:\n",
    "    for i in l:\n",
    "        print('Square of',i,'is',i**2)"
   ]
  },
  {
   "cell_type": "markdown",
   "metadata": {
    "id": "AcmTb57RWXjX"
   },
   "source": [
    "4.Write a program that receives an integer as input and finds its factorial. If a non-integer input is entered, then report an error and accept the input again. Continue this process until correct input is entered."
   ]
  },
  {
   "cell_type": "code",
   "execution_count": 4,
   "metadata": {},
   "outputs": [
    {
     "name": "stdout",
     "output_type": "stream",
     "text": [
      "Enter a number:5\n",
      "The factorial of 5 is 120\n",
      "Enter a number:4\n",
      "The factorial of 4 is 2880\n",
      "Enter a number:s\n",
      "You have entered non integer number\n"
     ]
    }
   ],
   "source": [
    "try:\n",
    "    fact=1\n",
    "    while True:\n",
    "        n=int(input('Enter a number:'))\n",
    "        for i in range(1,n+1):\n",
    "            fact = fact*i\n",
    "        print(\"The factorial of\",n,\"is\",fact)\n",
    "except:\n",
    "    print('You have entered non integer number')"
   ]
  },
  {
   "cell_type": "markdown",
   "metadata": {
    "id": "4DSpgfowWYum"
   },
   "source": [
    "5.Create an iterator that returns numbers, starting with 1, and each sequence will increase by one (returning 1,2,3,4,5 etc.):"
   ]
  },
  {
   "cell_type": "code",
   "execution_count": 83,
   "metadata": {},
   "outputs": [],
   "source": [
    "class Sequence:\n",
    "    def __init__(self,limit):\n",
    "        self._l=limit\n",
    "        self._val=1\n",
    "    def __iter__(self):\n",
    "        return self\n",
    "    def __next__(self):\n",
    "        if self._val>self._l:\n",
    "            raise StopIteration\n",
    "        else:\n",
    "            return_val=self._val\n",
    "            self._val+=1\n",
    "            return return_val"
   ]
  },
  {
   "cell_type": "code",
   "execution_count": 88,
   "metadata": {
    "id": "1m2szeNPWdOE"
   },
   "outputs": [
    {
     "name": "stdout",
     "output_type": "stream",
     "text": [
      "Enter the limit:8\n",
      "sequence from 1 to 8 is:\n",
      "1 2 3 4 5 6 7 8 "
     ]
    }
   ],
   "source": [
    "n=int(input('Enter the limit:'))\n",
    "print('sequence from 1 to',n,'is:')\n",
    "for i in Sequence(n):\n",
    "    print(i,end=' ')"
   ]
  },
  {
   "cell_type": "markdown",
   "metadata": {
    "id": "wUViVordWdcY"
   },
   "source": [
    "6.Write a program that implements iterator class called Prime and which prints prime numbers up to n."
   ]
  },
  {
   "cell_type": "code",
   "execution_count": null,
   "metadata": {},
   "outputs": [],
   "source": [
    "class Prime:\n",
    "    def __init__(self,limit):\n",
    "        self.l=limit\n",
    "        self.val=2\n",
    "    def __iter__(self):\n",
    "        return self\n",
    "    def __next__(self):\n",
    "        if self.val>self.l:\n",
    "            raise StopIteration\n",
    "        else:\n",
    "            return_val=self.val\n",
    "            self.val+=1\n",
    "            return return_val"
   ]
  },
  {
   "cell_type": "code",
   "execution_count": null,
   "metadata": {},
   "outputs": [],
   "source": [
    "num=int(input('Enter the limit:'))\n",
    "print(\"Prime numbers:\",end=' ')\n",
    "for n in Prime(num):\n",
    "    for i in range(2,n):\n",
    "        if(n%i==0):\n",
    "            break\n",
    "    else:\n",
    "        print(n,end=' ')"
   ]
  },
  {
   "cell_type": "markdown",
   "metadata": {
    "id": "om1hH3w3Wd5S"
   },
   "source": [
    "7.Define a class, Circle, which takes two arguments when defined — a sequence and a number. The idea is that the object will then return elements the defined number of times. If the number is greater than the number of elements, then the sequence repeats as necessary."
   ]
  },
  {
   "cell_type": "code",
   "execution_count": 2,
   "metadata": {
    "id": "yC_WDbKKWeNm"
   },
   "outputs": [],
   "source": [
    "class Circle:\n",
    "    def __init__(self,number,sequence):\n",
    "        self._limit=number\n",
    "        self._data=sequence\n",
    "        self._val=0\n",
    "    def __iter__(self):\n",
    "        return Circle(self._limit,self._data)\n",
    "    def __next__(self):\n",
    "        if self._val>=self._limit:\n",
    "            raise StopIteration\n",
    "        else:\n",
    "            value=self._data[self._val % len(self._data)]\n",
    "            self._val+=1\n",
    "            return value  "
   ]
  },
  {
   "cell_type": "code",
   "execution_count": 6,
   "metadata": {},
   "outputs": [
    {
     "name": "stdout",
     "output_type": "stream",
     "text": [
      "[1, 2, 3, 4, 5, 1, 2, 3, 4, 5, 1, 2, 3, 4, 5, 1, 2, 3, 4, 5]\n"
     ]
    }
   ],
   "source": [
    "n=Circle(20,[1,2,3,4,5])\n",
    "print(list(n))"
   ]
  },
  {
   "cell_type": "markdown",
   "metadata": {
    "id": "04KXNtioWebp"
   },
   "source": [
    "8.Write a Python program to demonstrate working of iterators using an example type that iterates from 10 to given value."
   ]
  },
  {
   "cell_type": "code",
   "execution_count": 7,
   "metadata": {
    "id": "fyp4UcOgWeuZ"
   },
   "outputs": [],
   "source": [
    "class x:\n",
    "    def __init__(self,limit):\n",
    "        self._limit=limit\n",
    "        self._val=10\n",
    "    def __iter__(self):\n",
    "        return self\n",
    "    def __next__(self):\n",
    "        if self._val>self._limit:\n",
    "            raise StopIteration\n",
    "        else:\n",
    "            return_val=self._val\n",
    "            self._val+=1\n",
    "            return return_val"
   ]
  },
  {
   "cell_type": "code",
   "execution_count": 10,
   "metadata": {},
   "outputs": [
    {
     "name": "stdout",
     "output_type": "stream",
     "text": [
      "Enter the limit:25\n",
      "The numbers from 10 to 25 are:\n",
      "10 11 12 13 14 15 16 17 18 19 20 21 22 23 24 25 "
     ]
    }
   ],
   "source": [
    "n=int(input('Enter the limit:'))\n",
    "print('The numbers from 10 to',n,'are:')\n",
    "for i in  x(n):\n",
    "    print(i,end=' ')"
   ]
  },
  {
   "cell_type": "markdown",
   "metadata": {
    "id": "LzSkVu1BWjn6"
   },
   "source": [
    "9.Write a program to illustrate the concept of multiple decorators"
   ]
  },
  {
   "cell_type": "code",
   "execution_count": 29,
   "metadata": {},
   "outputs": [],
   "source": [
    "def star(fun):\n",
    "    def inner(*args,**kwargs):\n",
    "        print('*'*100)\n",
    "        fun(*args,**kwargs)\n",
    "        print('*'*100)\n",
    "    return inner\n",
    "\n",
    "def percent(fun):\n",
    "    def inner(*args,**kwargs):\n",
    "        print('%'*100)\n",
    "        fun(*args,**kwargs)\n",
    "        print('%'*100)\n",
    "    return inner"
   ]
  },
  {
   "cell_type": "code",
   "execution_count": 30,
   "metadata": {},
   "outputs": [],
   "source": [
    "@star\n",
    "@percent\n",
    "def printer(msg):\n",
    "    print(msg)"
   ]
  },
  {
   "cell_type": "code",
   "execution_count": 31,
   "metadata": {},
   "outputs": [
    {
     "name": "stdout",
     "output_type": "stream",
     "text": [
      "****************************************************************************************************\n",
      "%%%%%%%%%%%%%%%%%%%%%%%%%%%%%%%%%%%%%%%%%%%%%%%%%%%%%%%%%%%%%%%%%%%%%%%%%%%%%%%%%%%%%%%%%%%%%%%%%%%%\n",
      "Hello World\n",
      "%%%%%%%%%%%%%%%%%%%%%%%%%%%%%%%%%%%%%%%%%%%%%%%%%%%%%%%%%%%%%%%%%%%%%%%%%%%%%%%%%%%%%%%%%%%%%%%%%%%%\n",
      "****************************************************************************************************\n"
     ]
    }
   ],
   "source": [
    "printer('Hello World')"
   ]
  },
  {
   "cell_type": "markdown",
   "metadata": {
    "id": "XHlEARG5WkJ0"
   },
   "source": [
    "10.Write a decorator called timer that calculates the time required to execute a function. Its wrapper function called calculates should take all the parameters that are passed to the decorated function."
   ]
  },
  {
   "cell_type": "code",
   "execution_count": 34,
   "metadata": {},
   "outputs": [],
   "source": [
    "import time\n",
    "def timer(fun):\n",
    "    def calculate(*args,**kwargs):\n",
    "        start_time=time.perf_counter()\n",
    "        value=fun(*args,**kwargs)\n",
    "        end_time=time.perf_counter()\n",
    "        run_time=end_time-start_time\n",
    "        print('Execution time :::{0:20.10f}secs'.format(run_time))\n",
    "        return value\n",
    "    return calculate"
   ]
  },
  {
   "cell_type": "code",
   "execution_count": 35,
   "metadata": {},
   "outputs": [],
   "source": [
    "@timer\n",
    "def factorial(n):\n",
    "    fact=1\n",
    "    for i in range(n):\n",
    "        fact=fact*(i+1)\n",
    "    return fact"
   ]
  },
  {
   "cell_type": "code",
   "execution_count": 37,
   "metadata": {},
   "outputs": [
    {
     "name": "stdout",
     "output_type": "stream",
     "text": [
      "Execution time :::        0.0000384000secs\n",
      "The factorial is : 93326215443944152681699238856266700490715968264381621468592963895217599993229915608941463976156518286253697920827223758251185210916864000000000000000000000000\n"
     ]
    }
   ],
   "source": [
    "print('The factorial is :',factorial(10))"
   ]
  },
  {
   "cell_type": "code",
   "execution_count": null,
   "metadata": {},
   "outputs": [],
   "source": []
  }
 ],
 "metadata": {
  "colab": {
   "name": "week8 challenge.ipynb",
   "provenance": []
  },
  "kernelspec": {
   "display_name": "Python 3",
   "language": "python",
   "name": "python3"
  },
  "language_info": {
   "codemirror_mode": {
    "name": "ipython",
    "version": 3
   },
   "file_extension": ".py",
   "mimetype": "text/x-python",
   "name": "python",
   "nbconvert_exporter": "python",
   "pygments_lexer": "ipython3",
   "version": "3.8.8"
  }
 },
 "nbformat": 4,
 "nbformat_minor": 1
}
