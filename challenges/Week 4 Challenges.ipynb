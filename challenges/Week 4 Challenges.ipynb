{
 "cells": [
  {
   "cell_type": "markdown",
   "id": "31738bf2",
   "metadata": {},
   "source": [
    "# Week 4 Challenges"
   ]
  },
  {
   "cell_type": "markdown",
   "id": "9fb21e89",
   "metadata": {},
   "source": [
    "## Question No . 01 : A set contains names which begin either with A or with B. Write a program to separate the names into two sets, one containing names beginning with A and the other containing names beginning with B"
   ]
  },
  {
   "cell_type": "code",
   "execution_count": 21,
   "id": "7f5d094c",
   "metadata": {},
   "outputs": [
    {
     "name": "stdout",
     "output_type": "stream",
     "text": [
      "Name doen't starts with a or b Darlin\n",
      "Set a contains : {'arun', 'akash', 'Assan'}\n",
      "Set b contains : {'bussan', 'bala', 'balaji'}\n"
     ]
    }
   ],
   "source": [
    "s1=set()\n",
    "s2=set()\n",
    "names = {'arun','bala', 'akash', 'balaji','bussan','Assan','Darlin'}\n",
    "\n",
    "for i in names:\n",
    "    if i.startswith('a'):\n",
    "        s1.add(i)\n",
    "    elif i.startswith('b'):\n",
    "        s2.add(i)\n",
    "    elif i.startswith('A'):\n",
    "        s1.add(i)\n",
    "    elif i.startswith('B'):\n",
    "        s2.add(i)\n",
    "    else:\n",
    "        print(\"Name doen't starts with a or b\",i)\n",
    "print(\"Set a contains :\",s1)\n",
    "print(\"Set b contains :\",s2)\n",
    "    "
   ]
  },
  {
   "cell_type": "markdown",
   "id": "cbf682d6",
   "metadata": {},
   "source": [
    "## Question No.02 : Create a list of tuples. Each tuple should contain an item and its price in float. Write a program to print each item and its price in a proper format"
   ]
  },
  {
   "cell_type": "code",
   "execution_count": 31,
   "id": "a8c1f984",
   "metadata": {},
   "outputs": [
    {
     "name": "stdout",
     "output_type": "stream",
     "text": [
      "[('Apple', '104.56'), ('Banana', '5.5'), ('Orange', '129.45')]\n"
     ]
    }
   ],
   "source": [
    "l1 = [('Apple','104.56'),('Banana','5.5'),('Orange','129.45')]\n",
    "print(l1)\n",
    "    \n",
    "    \n"
   ]
  },
  {
   "cell_type": "markdown",
   "id": "735f89ce",
   "metadata": {},
   "source": [
    "## Question No.03 : Write a program that reads integers from the user and stores them in a list. Your program should continue reading values until the user enters 0. Then it should display all of the values entered by the user (except for the 0) in order from smallest to largest, with one value appearing on each line. Use either the sort method or the sorted function to sort the list."
   ]
  },
  {
   "cell_type": "code",
   "execution_count": 37,
   "id": "9d3e02af",
   "metadata": {},
   "outputs": [
    {
     "name": "stdout",
     "output_type": "stream",
     "text": [
      "Enter the integer :34\n",
      "Enter the integer :12\n",
      "Enter the integer :98\n",
      "Enter the integer :54\n",
      "Enter the integer :09\n",
      "Enter the integer :32\n",
      "Enter the integer :98\n",
      "Enter the integer :0\n",
      "The sorted value is : [0, 9, 12, 32, 34, 54, 98, 98]\n"
     ]
    }
   ],
   "source": [
    "l1 = list()\n",
    "n = 1\n",
    "count = 0\n",
    "while n != 0:\n",
    "    num = int(input(\"Enter the integer :\"))\n",
    "    l1.insert(count,num)\n",
    "    count += 1\n",
    "    n =  num\n",
    "l1.sort()\n",
    "print(\"The sorted value is :\",l1)\n",
    "    "
   ]
  },
  {
   "cell_type": "markdown",
   "id": "7ca20348",
   "metadata": {},
   "source": [
    "## Question No. 04 : Write a program to read a list of numbers from the user and remove the two largest and two smallest values from it. Display the list with the values removed, followed by the original list. Your program should generate an appropriate error message if the user enters less than 5 values."
   ]
  },
  {
   "cell_type": "code",
   "execution_count": 54,
   "id": "900289ff",
   "metadata": {},
   "outputs": [
    {
     "name": "stdout",
     "output_type": "stream",
     "text": [
      "Enter the list of numbers 10\n",
      "Enter the numbers: 1\n",
      "Enter the numbers: 2\n",
      "Enter the numbers: 3\n",
      "Enter the numbers: 4\n",
      "Enter the numbers: 5\n",
      "Enter the numbers: 6\n",
      "Enter the numbers: 7\n",
      "Enter the numbers: 8\n",
      "Enter the numbers: 9\n",
      "Enter the numbers: 10\n",
      "Removed values are 1 2 9 10\n",
      "Original List : [1, 2, 3, 4, 5, 6, 7, 8, 9, 10]\n"
     ]
    }
   ],
   "source": [
    "num = int(input(\"Enter the list of numbers \"))\n",
    "l1 = list()\n",
    "l1 = list()\n",
    "count = 0\n",
    "if num >= 5:\n",
    "    for i in range(num):\n",
    "        n = int(input(\"Enter the numbers: \"))\n",
    "        l1.insert(count,n)\n",
    "        count += 1\n",
    "    l1.sort()\n",
    "    l2 = l1.copy()\n",
    "    print(\"Removed values are\",l1.pop(0),l1.pop(0),l1.pop(len(l1)-2),l1.pop(len(l1)-1))\n",
    "    print(\"Original List :\",l2)\n",
    "else:\n",
    "    print(\"Error , You enter less than 5 values\")\n"
   ]
  },
  {
   "cell_type": "markdown",
   "id": "1670273a",
   "metadata": {},
   "source": [
    "## Question No.05 :  In this exercise, you will create a program that reads words from the user until the user enters a blank line. After the user enters a blank line your program should display each word entered by the user exactly once."
   ]
  },
  {
   "cell_type": "code",
   "execution_count": 58,
   "id": "d5ee9a58",
   "metadata": {},
   "outputs": [
    {
     "name": "stdout",
     "output_type": "stream",
     "text": [
      "Enter the sentences: uywugwiugfu\n",
      "Enter the sentences: wgeugiuqwg\n",
      "Enter the sentences: didugdoiqwfui\n",
      "Enter the sentences: \n",
      "User Type the message befor the blank line is:  uywugwiugfu\n",
      "User Type the message befor the blank line is:  wgeugiuqwg\n",
      "User Type the message befor the blank line is:  didugdoiqwfui\n"
     ]
    }
   ],
   "source": [
    "l1 = list()\n",
    "while True:\n",
    "    words = input(\"Enter the sentences: \")\n",
    "    if words:\n",
    "        l1.append(words)\n",
    "    else:\n",
    "        break\n",
    "for i in l1:\n",
    "    print(\"User Type the message befor the blank line is: \",i)"
   ]
  },
  {
   "cell_type": "markdown",
   "id": "4af10e7e",
   "metadata": {},
   "source": [
    "## Question No . 06 :  Write a program that reads numbers from the user until a 0 is entered. Your program should display the average of all of the values entered by the user. Then the program should display all of the below average values, followed by all of the average values (if any), followed by all of the above average values. An appropriate label should be displayed before each list of values."
   ]
  },
  {
   "cell_type": "code",
   "execution_count": 66,
   "id": "36d8339b",
   "metadata": {},
   "outputs": [
    {
     "name": "stdout",
     "output_type": "stream",
     "text": [
      "Enter the numbers :10\n",
      "Enter the numbers :20\n",
      "Enter the numbers :30\n",
      "Enter the numbers :40\n",
      "Enter the numbers :50\n",
      "Enter the numbers :60\n",
      "Enter the numbers :70\n",
      "Enter the numbers :80\n",
      "Enter the numbers :90\n",
      "Enter the numbers :100\n",
      "Enter the numbers :0\n",
      "Avergae of the number is : 50.0\n",
      "The below average number : [10, 20, 30, 40]\n",
      "The above average number : [50, 60, 70, 80, 90, 100]\n"
     ]
    }
   ],
   "source": [
    "l1 = list()\n",
    "below1 = list()\n",
    "above1 = list()\n",
    "sum = 0\n",
    "count = 1\n",
    "while True:\n",
    "    num = int(input(\"Enter the numbers :\"))\n",
    "    if num == 0:\n",
    "        break\n",
    "    else:\n",
    "        l1.append(num)\n",
    "        sum += num\n",
    "        count += 1\n",
    "avg = sum / count\n",
    "print(\"Avergae of the number is :\",round(avg,2))\n",
    "for i in l1:\n",
    "    if avg>i :\n",
    "        below1.append(i)\n",
    "    else:\n",
    "        above1.append(i)\n",
    "print(\"The below average number :\",below1)\n",
    "print(\"The above average number :\",above1)"
   ]
  },
  {
   "cell_type": "markdown",
   "id": "6e6cd094",
   "metadata": {},
   "source": [
    "## Question No. 07 :  Create a program that determines and displays the number of unique characters in a string entered by the user. For example, Hello World! has 9 unique characters while zzz has only one unique character. Use a dictionary to solve this problem."
   ]
  },
  {
   "cell_type": "code",
   "execution_count": 77,
   "id": "b3c51900",
   "metadata": {},
   "outputs": [
    {
     "name": "stdout",
     "output_type": "stream",
     "text": [
      "Enter the sentence:Hello World!\n",
      "Unquie cahracter of Hello World! is : 9\n"
     ]
    }
   ],
   "source": [
    "dict1 = dict()\n",
    "str1 = input(\"Enter the sentence:\")\n",
    "\n",
    "for i in str1:\n",
    "    if i not in dict1:\n",
    "        dict1[i] = 1\n",
    "    else:\n",
    "        dict1[i] += 1\n",
    "print (\"Unquie cahracter of\", str1, \"is :\",len(dict1))"
   ]
  },
  {
   "cell_type": "markdown",
   "id": "62daaef5",
   "metadata": {},
   "source": [
    "## Question No. 08 : Two words are anagrams if they contain all of the same letters, but in a different order. For example, “evil” and “live” are anagrams because each contains one e, one i, one l, and one v. Create a program that reads two strings from the user, determines whether or not they are anagrams, and reports the result."
   ]
  },
  {
   "cell_type": "code",
   "execution_count": 87,
   "id": "7d7a1bac",
   "metadata": {},
   "outputs": [
    {
     "name": "stdout",
     "output_type": "stream",
     "text": [
      "Enter the first sentence :evil\n",
      "Enter the second sentence :live\n",
      "The word evil & live is an anagram\n"
     ]
    }
   ],
   "source": [
    "str1 = input(\"Enter the first sentence :\")\n",
    "str2 = input(\"Enter the second sentence :\")\n",
    "len1 = len(str1)\n",
    "len2 = len(str2)\n",
    "count = 0\n",
    "for i in str1.lower():\n",
    "    for j in str2.lower():\n",
    "        if i in j:\n",
    "            count += 1\n",
    "        continue\n",
    "if count == len1 and count ==len2 and len1 == len2 :\n",
    "    print(\"The word\",str1,\"&\",str2,\"is an anagram\")\n",
    "else:\n",
    "     print(\"The word\",str1,\"&\",str2,\"is not an anagram\")"
   ]
  },
  {
   "cell_type": "markdown",
   "id": "935ad0e2",
   "metadata": {},
   "source": [
    "## Question No. 09 : An integer, n, is said to be perfect when the sum of all of the proper divisors of n is equal to n. For example, 28 is a perfect number because its proper divisors are 1, 2, 4, 7 and 14, and 1 + 2 + 4 + 7 + 14 = 28. Write a program that determines whether or not a positive integer is perfect. Your program will accept a number from the user. If that number is a perfect number then your program will display true. Otherwise it will display false."
   ]
  },
  {
   "cell_type": "code",
   "execution_count": 97,
   "id": "dd9c2b01",
   "metadata": {},
   "outputs": [
    {
     "name": "stdout",
     "output_type": "stream",
     "text": [
      "Enter the integer :28\n",
      "The number 28 is a perfect number \n",
      "TRUE\n"
     ]
    }
   ],
   "source": [
    "num = int(input(\"Enter the integer :\"))\n",
    "sum1 = 0\n",
    "for i in range(1,num):\n",
    "    if num % i == 0:\n",
    "        sum1 += i\n",
    "if sum1 == num:\n",
    "    print(\"The number\",num,\"is a perfect number \\nTRUE\")\n",
    "else:\n",
    "    print(\"The number\",num,\"is not a perfect number \\n FALSE\")"
   ]
  },
  {
   "cell_type": "markdown",
   "id": "70c165de",
   "metadata": {},
   "source": [
    "## Question No. 10 :  Write a program that finds all of the keys in a dictionary that map to a specific value. The program will take the value to search for as its input. It will display a (possibly empty) list of keys from the dictionary that map to the provided value."
   ]
  },
  {
   "cell_type": "code",
   "execution_count": 104,
   "id": "34baa1fc",
   "metadata": {},
   "outputs": [
    {
     "name": "stdout",
     "output_type": "stream",
     "text": [
      "Enter the strings :Mumbai\n",
      "The values will map the keys:  ['Maharastra']\n"
     ]
    }
   ],
   "source": [
    "str1 = input(\"Enter the strings :\")\n",
    "\n",
    "capitals = {'Telugana':'Hydrabad', 'Tamil Nadu':'Chennai', 'Andhra Pradesh':'Hydrabad',\n",
    "           'Karnataka':'Bangalore','Maharastra':'Mumbai'}\n",
    "\n",
    "print(\"The values will map the keys: \",list(key for key, value in capitals.items() if value == str1))"
   ]
  },
  {
   "cell_type": "code",
   "execution_count": null,
   "id": "85656260",
   "metadata": {},
   "outputs": [],
   "source": []
  }
 ],
 "metadata": {
  "kernelspec": {
   "display_name": "Python 3 (ipykernel)",
   "language": "python",
   "name": "python3"
  },
  "language_info": {
   "codemirror_mode": {
    "name": "ipython",
    "version": 3
   },
   "file_extension": ".py",
   "mimetype": "text/x-python",
   "name": "python",
   "nbconvert_exporter": "python",
   "pygments_lexer": "ipython3",
   "version": "3.9.12"
  }
 },
 "nbformat": 4,
 "nbformat_minor": 5
}
